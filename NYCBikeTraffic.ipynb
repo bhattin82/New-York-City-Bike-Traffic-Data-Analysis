{
  "cells": [
    {
      "cell_type": "markdown",
      "id": "85230f5e-914c-4d31-be3f-6cd860166580",
      "metadata": {
        "id": "85230f5e-914c-4d31-be3f-6cd860166580"
      },
      "source": [
        "The explanations in this notebook are just so that it is easier to understand what each section of code is trying to achieve. For a detailed explanation and data analysis, please refer to the report.pdf."
      ]
    },
    {
      "cell_type": "code",
      "execution_count": 1,
      "id": "52355aef-77e1-40b0-88d0-83024160e808",
      "metadata": {
        "id": "52355aef-77e1-40b0-88d0-83024160e808"
      },
      "outputs": [],
      "source": [
        "#Importing relevant libraries\n",
        "import pandas as pd \n",
        "import matplotlib.pyplot as plt\n",
        "import numpy as np\n",
        "from scipy.stats import norm\n",
        "import scipy.stats as st\n",
        "import seaborn as sns\n",
        "import math\n",
        "from math import trunc\n",
        "from sklearn.linear_model import LogisticRegression\n",
        "from sklearn.model_selection import train_test_split\n",
        "from sklearn.neighbors import KNeighborsClassifier \n",
        "from sklearn.metrics import confusion_matrix\n",
        "import warnings\n",
        "warnings.filterwarnings('ignore')"
      ]
    },
    {
      "cell_type": "markdown",
      "id": "5d2614de-3e79-47db-94e2-1d6ea8c23145",
      "metadata": {
        "id": "5d2614de-3e79-47db-94e2-1d6ea8c23145"
      },
      "source": [
        "The Pandas library is being used to read the file(.csv). The length of the file is calculated. The top and bottom five rows are displayed. "
      ]
    },
    {
      "cell_type": "code",
      "execution_count": 4,
      "id": "f0358ae7-8320-45c8-b577-4bcf9e5a9179",
      "metadata": {
        "colab": {
          "base_uri": "https://localhost:8080/",
          "height": 310
        },
        "id": "f0358ae7-8320-45c8-b577-4bcf9e5a9179",
        "outputId": "8c0293a2-c793-41c5-b3a6-d553dfd153fa"
      },
      "outputs": [
        {
          "output_type": "execute_result",
          "data": {
            "text/plain": [
              "<pandas.io.formats.style.Styler at 0x7fa4e87aee90>"
            ],
            "text/html": [
              "<style type=\"text/css\">\n",
              "</style>\n",
              "<table id=\"T_95f9e\" class=\"dataframe\">\n",
              "  <thead>\n",
              "    <tr>\n",
              "      <th class=\"blank level0\" >&nbsp;</th>\n",
              "      <th id=\"T_95f9e_level0_col0\" class=\"col_heading level0 col0\" >Date</th>\n",
              "      <th id=\"T_95f9e_level0_col1\" class=\"col_heading level0 col1\" >Day</th>\n",
              "      <th id=\"T_95f9e_level0_col2\" class=\"col_heading level0 col2\" >High Temp (°F)</th>\n",
              "      <th id=\"T_95f9e_level0_col3\" class=\"col_heading level0 col3\" >Low Temp (°F)</th>\n",
              "      <th id=\"T_95f9e_level0_col4\" class=\"col_heading level0 col4\" >Precipitation</th>\n",
              "      <th id=\"T_95f9e_level0_col5\" class=\"col_heading level0 col5\" >Brooklyn Bridge</th>\n",
              "      <th id=\"T_95f9e_level0_col6\" class=\"col_heading level0 col6\" >Manhattan Bridge</th>\n",
              "      <th id=\"T_95f9e_level0_col7\" class=\"col_heading level0 col7\" >Williamsburg Bridge</th>\n",
              "      <th id=\"T_95f9e_level0_col8\" class=\"col_heading level0 col8\" >Queensboro Bridge</th>\n",
              "      <th id=\"T_95f9e_level0_col9\" class=\"col_heading level0 col9\" >Total</th>\n",
              "    </tr>\n",
              "  </thead>\n",
              "  <tbody>\n",
              "    <tr>\n",
              "      <th id=\"T_95f9e_level0_row0\" class=\"row_heading level0 row0\" >0</th>\n",
              "      <td id=\"T_95f9e_row0_col0\" class=\"data row0 col0\" >1-Apr</td>\n",
              "      <td id=\"T_95f9e_row0_col1\" class=\"data row0 col1\" >Friday</td>\n",
              "      <td id=\"T_95f9e_row0_col2\" class=\"data row0 col2\" >78.100000</td>\n",
              "      <td id=\"T_95f9e_row0_col3\" class=\"data row0 col3\" >66.000000</td>\n",
              "      <td id=\"T_95f9e_row0_col4\" class=\"data row0 col4\" >0.01</td>\n",
              "      <td id=\"T_95f9e_row0_col5\" class=\"data row0 col5\" >1,704</td>\n",
              "      <td id=\"T_95f9e_row0_col6\" class=\"data row0 col6\" >3,126</td>\n",
              "      <td id=\"T_95f9e_row0_col7\" class=\"data row0 col7\" >4,115</td>\n",
              "      <td id=\"T_95f9e_row0_col8\" class=\"data row0 col8\" >2,552</td>\n",
              "      <td id=\"T_95f9e_row0_col9\" class=\"data row0 col9\" >11,497</td>\n",
              "    </tr>\n",
              "    <tr>\n",
              "      <th id=\"T_95f9e_level0_row1\" class=\"row_heading level0 row1\" >1</th>\n",
              "      <td id=\"T_95f9e_row1_col0\" class=\"data row1 col0\" >2-Apr</td>\n",
              "      <td id=\"T_95f9e_row1_col1\" class=\"data row1 col1\" >Saturday</td>\n",
              "      <td id=\"T_95f9e_row1_col2\" class=\"data row1 col2\" >55.000000</td>\n",
              "      <td id=\"T_95f9e_row1_col3\" class=\"data row1 col3\" >48.900000</td>\n",
              "      <td id=\"T_95f9e_row1_col4\" class=\"data row1 col4\" >0.15</td>\n",
              "      <td id=\"T_95f9e_row1_col5\" class=\"data row1 col5\" >827</td>\n",
              "      <td id=\"T_95f9e_row1_col6\" class=\"data row1 col6\" >1,646</td>\n",
              "      <td id=\"T_95f9e_row1_col7\" class=\"data row1 col7\" >2,565</td>\n",
              "      <td id=\"T_95f9e_row1_col8\" class=\"data row1 col8\" >1,884</td>\n",
              "      <td id=\"T_95f9e_row1_col9\" class=\"data row1 col9\" >6,922</td>\n",
              "    </tr>\n",
              "    <tr>\n",
              "      <th id=\"T_95f9e_level0_row2\" class=\"row_heading level0 row2\" >2</th>\n",
              "      <td id=\"T_95f9e_row2_col0\" class=\"data row2 col0\" >3-Apr</td>\n",
              "      <td id=\"T_95f9e_row2_col1\" class=\"data row2 col1\" >Sunday</td>\n",
              "      <td id=\"T_95f9e_row2_col2\" class=\"data row2 col2\" >39.900000</td>\n",
              "      <td id=\"T_95f9e_row2_col3\" class=\"data row2 col3\" >34.000000</td>\n",
              "      <td id=\"T_95f9e_row2_col4\" class=\"data row2 col4\" >0.09</td>\n",
              "      <td id=\"T_95f9e_row2_col5\" class=\"data row2 col5\" >526</td>\n",
              "      <td id=\"T_95f9e_row2_col6\" class=\"data row2 col6\" >1,232</td>\n",
              "      <td id=\"T_95f9e_row2_col7\" class=\"data row2 col7\" >1,695</td>\n",
              "      <td id=\"T_95f9e_row2_col8\" class=\"data row2 col8\" >1,306</td>\n",
              "      <td id=\"T_95f9e_row2_col9\" class=\"data row2 col9\" >4,759</td>\n",
              "    </tr>\n",
              "    <tr>\n",
              "      <th id=\"T_95f9e_level0_row3\" class=\"row_heading level0 row3\" >3</th>\n",
              "      <td id=\"T_95f9e_row3_col0\" class=\"data row3 col0\" >4-Apr</td>\n",
              "      <td id=\"T_95f9e_row3_col1\" class=\"data row3 col1\" >Monday</td>\n",
              "      <td id=\"T_95f9e_row3_col2\" class=\"data row3 col2\" >44.100000</td>\n",
              "      <td id=\"T_95f9e_row3_col3\" class=\"data row3 col3\" >33.100000</td>\n",
              "      <td id=\"T_95f9e_row3_col4\" class=\"data row3 col4\" >0.47 (S)</td>\n",
              "      <td id=\"T_95f9e_row3_col5\" class=\"data row3 col5\" >521</td>\n",
              "      <td id=\"T_95f9e_row3_col6\" class=\"data row3 col6\" >1,067</td>\n",
              "      <td id=\"T_95f9e_row3_col7\" class=\"data row3 col7\" >1,440</td>\n",
              "      <td id=\"T_95f9e_row3_col8\" class=\"data row3 col8\" >1,307</td>\n",
              "      <td id=\"T_95f9e_row3_col9\" class=\"data row3 col9\" >4,335</td>\n",
              "    </tr>\n",
              "    <tr>\n",
              "      <th id=\"T_95f9e_level0_row4\" class=\"row_heading level0 row4\" >4</th>\n",
              "      <td id=\"T_95f9e_row4_col0\" class=\"data row4 col0\" >5-Apr</td>\n",
              "      <td id=\"T_95f9e_row4_col1\" class=\"data row4 col1\" >Tuesday</td>\n",
              "      <td id=\"T_95f9e_row4_col2\" class=\"data row4 col2\" >42.100000</td>\n",
              "      <td id=\"T_95f9e_row4_col3\" class=\"data row4 col3\" >26.100000</td>\n",
              "      <td id=\"T_95f9e_row4_col4\" class=\"data row4 col4\" >0</td>\n",
              "      <td id=\"T_95f9e_row4_col5\" class=\"data row4 col5\" >1,416</td>\n",
              "      <td id=\"T_95f9e_row4_col6\" class=\"data row4 col6\" >2,617</td>\n",
              "      <td id=\"T_95f9e_row4_col7\" class=\"data row4 col7\" >3,081</td>\n",
              "      <td id=\"T_95f9e_row4_col8\" class=\"data row4 col8\" >2,357</td>\n",
              "      <td id=\"T_95f9e_row4_col9\" class=\"data row4 col9\" >9,471</td>\n",
              "    </tr>\n",
              "  </tbody>\n",
              "</table>\n"
            ]
          },
          "metadata": {},
          "execution_count": 4
        }
      ],
      "source": [
        "bikers_data = pd.read_csv('NYC_Bicycle_Counts_2016_Corrected.csv')\n",
        "columns = list(bikers_data.columns)\n",
        "rows = len(bikers_data)\n",
        "top_data = bikers_data.head()\n",
        "tail_data = bikers_data.tail()\n",
        "top_data.style"
      ]
    },
    {
      "cell_type": "markdown",
      "id": "1a504d2c-ae01-42dc-80aa-094eb1b2a4d8",
      "metadata": {
        "id": "1a504d2c-ae01-42dc-80aa-094eb1b2a4d8"
      },
      "source": [
        "The commas in the bikers data are replaced so that it can be used for further calculations(otherwise type error). The arguments are converted to a numeric type. The following columns are dropped: Date, Day. The statistics are displayed. "
      ]
    },
    {
      "cell_type": "code",
      "execution_count": 5,
      "id": "28fe5aaf-4efc-4c80-ab1a-de4471e381ea",
      "metadata": {
        "colab": {
          "base_uri": "https://localhost:8080/",
          "height": 541
        },
        "id": "28fe5aaf-4efc-4c80-ab1a-de4471e381ea",
        "outputId": "21fafa41-aaae-48ac-a402-3de89fcab5fe"
      },
      "outputs": [
        {
          "output_type": "stream",
          "name": "stdout",
          "text": [
            "Date                    object\n",
            "Day                     object\n",
            "High Temp (°F)         float64\n",
            "Low Temp (°F)          float64\n",
            "Precipitation           object\n",
            "Brooklyn Bridge         object\n",
            "Manhattan Bridge        object\n",
            "Williamsburg Bridge     object\n",
            "Queensboro Bridge       object\n",
            "Total                   object\n",
            "dtype: object\n"
          ]
        },
        {
          "output_type": "execute_result",
          "data": {
            "text/plain": [
              "       High Temp (°F)  Low Temp (°F)  Precipitation  Brooklyn Bridge  \\\n",
              "count      214.000000     214.000000     195.000000       214.000000   \n",
              "mean        74.933645      61.972430       0.117282      3030.700935   \n",
              "std         12.545418      11.670566       0.268987      1134.044825   \n",
              "min         39.900000      26.100000       0.000000       504.000000   \n",
              "25%         66.050000      53.225000       0.000000      2387.750000   \n",
              "50%         78.100000      64.900000       0.000000      3076.500000   \n",
              "75%         84.900000      71.100000       0.085000      3685.250000   \n",
              "max         96.100000      82.000000       1.650000      8264.000000   \n",
              "\n",
              "       Manhattan Bridge  Williamsburg Bridge  Queensboro Bridge         Total  \n",
              "count        214.000000           214.000000         214.000000    214.000000  \n",
              "mean        5052.233645          6160.873832        4300.724299  18544.532710  \n",
              "std         1745.485407          1910.643106        1260.985725   5702.083786  \n",
              "min          997.000000          1440.000000        1306.000000   4335.000000  \n",
              "25%         3713.250000          4884.500000        3495.750000  14825.750000  \n",
              "50%         5132.000000          6334.500000        4342.500000  19001.500000  \n",
              "75%         6609.500000          7858.000000        5308.500000  23253.500000  \n",
              "max         9152.000000          9148.000000        6392.000000  28437.000000  "
            ],
            "text/html": [
              "\n",
              "  <div id=\"df-1ff3cdc9-304e-40eb-9954-6ea5943225d2\">\n",
              "    <div class=\"colab-df-container\">\n",
              "      <div>\n",
              "<style scoped>\n",
              "    .dataframe tbody tr th:only-of-type {\n",
              "        vertical-align: middle;\n",
              "    }\n",
              "\n",
              "    .dataframe tbody tr th {\n",
              "        vertical-align: top;\n",
              "    }\n",
              "\n",
              "    .dataframe thead th {\n",
              "        text-align: right;\n",
              "    }\n",
              "</style>\n",
              "<table border=\"1\" class=\"dataframe\">\n",
              "  <thead>\n",
              "    <tr style=\"text-align: right;\">\n",
              "      <th></th>\n",
              "      <th>High Temp (°F)</th>\n",
              "      <th>Low Temp (°F)</th>\n",
              "      <th>Precipitation</th>\n",
              "      <th>Brooklyn Bridge</th>\n",
              "      <th>Manhattan Bridge</th>\n",
              "      <th>Williamsburg Bridge</th>\n",
              "      <th>Queensboro Bridge</th>\n",
              "      <th>Total</th>\n",
              "    </tr>\n",
              "  </thead>\n",
              "  <tbody>\n",
              "    <tr>\n",
              "      <th>count</th>\n",
              "      <td>214.000000</td>\n",
              "      <td>214.000000</td>\n",
              "      <td>195.000000</td>\n",
              "      <td>214.000000</td>\n",
              "      <td>214.000000</td>\n",
              "      <td>214.000000</td>\n",
              "      <td>214.000000</td>\n",
              "      <td>214.000000</td>\n",
              "    </tr>\n",
              "    <tr>\n",
              "      <th>mean</th>\n",
              "      <td>74.933645</td>\n",
              "      <td>61.972430</td>\n",
              "      <td>0.117282</td>\n",
              "      <td>3030.700935</td>\n",
              "      <td>5052.233645</td>\n",
              "      <td>6160.873832</td>\n",
              "      <td>4300.724299</td>\n",
              "      <td>18544.532710</td>\n",
              "    </tr>\n",
              "    <tr>\n",
              "      <th>std</th>\n",
              "      <td>12.545418</td>\n",
              "      <td>11.670566</td>\n",
              "      <td>0.268987</td>\n",
              "      <td>1134.044825</td>\n",
              "      <td>1745.485407</td>\n",
              "      <td>1910.643106</td>\n",
              "      <td>1260.985725</td>\n",
              "      <td>5702.083786</td>\n",
              "    </tr>\n",
              "    <tr>\n",
              "      <th>min</th>\n",
              "      <td>39.900000</td>\n",
              "      <td>26.100000</td>\n",
              "      <td>0.000000</td>\n",
              "      <td>504.000000</td>\n",
              "      <td>997.000000</td>\n",
              "      <td>1440.000000</td>\n",
              "      <td>1306.000000</td>\n",
              "      <td>4335.000000</td>\n",
              "    </tr>\n",
              "    <tr>\n",
              "      <th>25%</th>\n",
              "      <td>66.050000</td>\n",
              "      <td>53.225000</td>\n",
              "      <td>0.000000</td>\n",
              "      <td>2387.750000</td>\n",
              "      <td>3713.250000</td>\n",
              "      <td>4884.500000</td>\n",
              "      <td>3495.750000</td>\n",
              "      <td>14825.750000</td>\n",
              "    </tr>\n",
              "    <tr>\n",
              "      <th>50%</th>\n",
              "      <td>78.100000</td>\n",
              "      <td>64.900000</td>\n",
              "      <td>0.000000</td>\n",
              "      <td>3076.500000</td>\n",
              "      <td>5132.000000</td>\n",
              "      <td>6334.500000</td>\n",
              "      <td>4342.500000</td>\n",
              "      <td>19001.500000</td>\n",
              "    </tr>\n",
              "    <tr>\n",
              "      <th>75%</th>\n",
              "      <td>84.900000</td>\n",
              "      <td>71.100000</td>\n",
              "      <td>0.085000</td>\n",
              "      <td>3685.250000</td>\n",
              "      <td>6609.500000</td>\n",
              "      <td>7858.000000</td>\n",
              "      <td>5308.500000</td>\n",
              "      <td>23253.500000</td>\n",
              "    </tr>\n",
              "    <tr>\n",
              "      <th>max</th>\n",
              "      <td>96.100000</td>\n",
              "      <td>82.000000</td>\n",
              "      <td>1.650000</td>\n",
              "      <td>8264.000000</td>\n",
              "      <td>9152.000000</td>\n",
              "      <td>9148.000000</td>\n",
              "      <td>6392.000000</td>\n",
              "      <td>28437.000000</td>\n",
              "    </tr>\n",
              "  </tbody>\n",
              "</table>\n",
              "</div>\n",
              "      <button class=\"colab-df-convert\" onclick=\"convertToInteractive('df-1ff3cdc9-304e-40eb-9954-6ea5943225d2')\"\n",
              "              title=\"Convert this dataframe to an interactive table.\"\n",
              "              style=\"display:none;\">\n",
              "        \n",
              "  <svg xmlns=\"http://www.w3.org/2000/svg\" height=\"24px\"viewBox=\"0 0 24 24\"\n",
              "       width=\"24px\">\n",
              "    <path d=\"M0 0h24v24H0V0z\" fill=\"none\"/>\n",
              "    <path d=\"M18.56 5.44l.94 2.06.94-2.06 2.06-.94-2.06-.94-.94-2.06-.94 2.06-2.06.94zm-11 1L8.5 8.5l.94-2.06 2.06-.94-2.06-.94L8.5 2.5l-.94 2.06-2.06.94zm10 10l.94 2.06.94-2.06 2.06-.94-2.06-.94-.94-2.06-.94 2.06-2.06.94z\"/><path d=\"M17.41 7.96l-1.37-1.37c-.4-.4-.92-.59-1.43-.59-.52 0-1.04.2-1.43.59L10.3 9.45l-7.72 7.72c-.78.78-.78 2.05 0 2.83L4 21.41c.39.39.9.59 1.41.59.51 0 1.02-.2 1.41-.59l7.78-7.78 2.81-2.81c.8-.78.8-2.07 0-2.86zM5.41 20L4 18.59l7.72-7.72 1.47 1.35L5.41 20z\"/>\n",
              "  </svg>\n",
              "      </button>\n",
              "      \n",
              "  <style>\n",
              "    .colab-df-container {\n",
              "      display:flex;\n",
              "      flex-wrap:wrap;\n",
              "      gap: 12px;\n",
              "    }\n",
              "\n",
              "    .colab-df-convert {\n",
              "      background-color: #E8F0FE;\n",
              "      border: none;\n",
              "      border-radius: 50%;\n",
              "      cursor: pointer;\n",
              "      display: none;\n",
              "      fill: #1967D2;\n",
              "      height: 32px;\n",
              "      padding: 0 0 0 0;\n",
              "      width: 32px;\n",
              "    }\n",
              "\n",
              "    .colab-df-convert:hover {\n",
              "      background-color: #E2EBFA;\n",
              "      box-shadow: 0px 1px 2px rgba(60, 64, 67, 0.3), 0px 1px 3px 1px rgba(60, 64, 67, 0.15);\n",
              "      fill: #174EA6;\n",
              "    }\n",
              "\n",
              "    [theme=dark] .colab-df-convert {\n",
              "      background-color: #3B4455;\n",
              "      fill: #D2E3FC;\n",
              "    }\n",
              "\n",
              "    [theme=dark] .colab-df-convert:hover {\n",
              "      background-color: #434B5C;\n",
              "      box-shadow: 0px 1px 3px 1px rgba(0, 0, 0, 0.15);\n",
              "      filter: drop-shadow(0px 1px 2px rgba(0, 0, 0, 0.3));\n",
              "      fill: #FFFFFF;\n",
              "    }\n",
              "  </style>\n",
              "\n",
              "      <script>\n",
              "        const buttonEl =\n",
              "          document.querySelector('#df-1ff3cdc9-304e-40eb-9954-6ea5943225d2 button.colab-df-convert');\n",
              "        buttonEl.style.display =\n",
              "          google.colab.kernel.accessAllowed ? 'block' : 'none';\n",
              "\n",
              "        async function convertToInteractive(key) {\n",
              "          const element = document.querySelector('#df-1ff3cdc9-304e-40eb-9954-6ea5943225d2');\n",
              "          const dataTable =\n",
              "            await google.colab.kernel.invokeFunction('convertToInteractive',\n",
              "                                                     [key], {});\n",
              "          if (!dataTable) return;\n",
              "\n",
              "          const docLinkHtml = 'Like what you see? Visit the ' +\n",
              "            '<a target=\"_blank\" href=https://colab.research.google.com/notebooks/data_table.ipynb>data table notebook</a>'\n",
              "            + ' to learn more about interactive tables.';\n",
              "          element.innerHTML = '';\n",
              "          dataTable['output_type'] = 'display_data';\n",
              "          await google.colab.output.renderOutput(dataTable, element);\n",
              "          const docLink = document.createElement('div');\n",
              "          docLink.innerHTML = docLinkHtml;\n",
              "          element.appendChild(docLink);\n",
              "        }\n",
              "      </script>\n",
              "    </div>\n",
              "  </div>\n",
              "  "
            ]
          },
          "metadata": {},
          "execution_count": 5
        }
      ],
      "source": [
        "print(bikers_data.dtypes)\n",
        "bikers_data = bikers_data.replace(',', '', regex = True)\n",
        "select_column = bikers_data.select_dtypes(object).columns\n",
        "bikers_data[select_column] = bikers_data[select_column].apply(pd.to_numeric,errors = 'coerce')\n",
        "bikers_data.drop([\"Date\", \"Day\"], axis = 1, inplace = True)\n",
        "bikers_data.describe()"
      ]
    },
    {
      "cell_type": "markdown",
      "id": "c52654ea-c31b-402e-a5b6-09a74ce110b1",
      "metadata": {
        "id": "c52654ea-c31b-402e-a5b6-09a74ce110b1"
      },
      "source": [
        "The number of bikers cannot be in decimal.Therefore, a function is defined that converts the data for the number of bikers into integers. "
      ]
    },
    {
      "cell_type": "code",
      "execution_count": 6,
      "id": "b46ab1d4-38fa-453d-a122-3cc2f6ace26d",
      "metadata": {
        "colab": {
          "base_uri": "https://localhost:8080/",
          "height": 300
        },
        "id": "b46ab1d4-38fa-453d-a122-3cc2f6ace26d",
        "outputId": "ea363f4f-d1a5-4bc3-d5d1-4317902c9724"
      },
      "outputs": [
        {
          "output_type": "execute_result",
          "data": {
            "text/plain": [
              "<pandas.io.formats.style.Styler at 0x7fa4e87af010>"
            ],
            "text/html": [
              "<style type=\"text/css\">\n",
              "</style>\n",
              "<table id=\"T_bb271\" class=\"dataframe\">\n",
              "  <thead>\n",
              "    <tr>\n",
              "      <th class=\"blank level0\" >&nbsp;</th>\n",
              "      <th id=\"T_bb271_level0_col0\" class=\"col_heading level0 col0\" >High Temp (°F)</th>\n",
              "      <th id=\"T_bb271_level0_col1\" class=\"col_heading level0 col1\" >Low Temp (°F)</th>\n",
              "      <th id=\"T_bb271_level0_col2\" class=\"col_heading level0 col2\" >Precipitation</th>\n",
              "      <th id=\"T_bb271_level0_col3\" class=\"col_heading level0 col3\" >Brooklyn Bridge</th>\n",
              "      <th id=\"T_bb271_level0_col4\" class=\"col_heading level0 col4\" >Manhattan Bridge</th>\n",
              "      <th id=\"T_bb271_level0_col5\" class=\"col_heading level0 col5\" >Williamsburg Bridge</th>\n",
              "      <th id=\"T_bb271_level0_col6\" class=\"col_heading level0 col6\" >Queensboro Bridge</th>\n",
              "      <th id=\"T_bb271_level0_col7\" class=\"col_heading level0 col7\" >Total</th>\n",
              "    </tr>\n",
              "  </thead>\n",
              "  <tbody>\n",
              "    <tr>\n",
              "      <th id=\"T_bb271_level0_row0\" class=\"row_heading level0 row0\" >count</th>\n",
              "      <td id=\"T_bb271_row0_col0\" class=\"data row0 col0\" >214.000000</td>\n",
              "      <td id=\"T_bb271_row0_col1\" class=\"data row0 col1\" >214.000000</td>\n",
              "      <td id=\"T_bb271_row0_col2\" class=\"data row0 col2\" >195.000000</td>\n",
              "      <td id=\"T_bb271_row0_col3\" class=\"data row0 col3\" >214</td>\n",
              "      <td id=\"T_bb271_row0_col4\" class=\"data row0 col4\" >214</td>\n",
              "      <td id=\"T_bb271_row0_col5\" class=\"data row0 col5\" >214</td>\n",
              "      <td id=\"T_bb271_row0_col6\" class=\"data row0 col6\" >214</td>\n",
              "      <td id=\"T_bb271_row0_col7\" class=\"data row0 col7\" >214</td>\n",
              "    </tr>\n",
              "    <tr>\n",
              "      <th id=\"T_bb271_level0_row1\" class=\"row_heading level0 row1\" >mean</th>\n",
              "      <td id=\"T_bb271_row1_col0\" class=\"data row1 col0\" >74.933645</td>\n",
              "      <td id=\"T_bb271_row1_col1\" class=\"data row1 col1\" >61.972430</td>\n",
              "      <td id=\"T_bb271_row1_col2\" class=\"data row1 col2\" >0.117282</td>\n",
              "      <td id=\"T_bb271_row1_col3\" class=\"data row1 col3\" >3030</td>\n",
              "      <td id=\"T_bb271_row1_col4\" class=\"data row1 col4\" >5052</td>\n",
              "      <td id=\"T_bb271_row1_col5\" class=\"data row1 col5\" >6160</td>\n",
              "      <td id=\"T_bb271_row1_col6\" class=\"data row1 col6\" >4300</td>\n",
              "      <td id=\"T_bb271_row1_col7\" class=\"data row1 col7\" >18544</td>\n",
              "    </tr>\n",
              "    <tr>\n",
              "      <th id=\"T_bb271_level0_row2\" class=\"row_heading level0 row2\" >std</th>\n",
              "      <td id=\"T_bb271_row2_col0\" class=\"data row2 col0\" >12.545418</td>\n",
              "      <td id=\"T_bb271_row2_col1\" class=\"data row2 col1\" >11.670566</td>\n",
              "      <td id=\"T_bb271_row2_col2\" class=\"data row2 col2\" >0.268987</td>\n",
              "      <td id=\"T_bb271_row2_col3\" class=\"data row2 col3\" >1134</td>\n",
              "      <td id=\"T_bb271_row2_col4\" class=\"data row2 col4\" >1745</td>\n",
              "      <td id=\"T_bb271_row2_col5\" class=\"data row2 col5\" >1910</td>\n",
              "      <td id=\"T_bb271_row2_col6\" class=\"data row2 col6\" >1260</td>\n",
              "      <td id=\"T_bb271_row2_col7\" class=\"data row2 col7\" >5702</td>\n",
              "    </tr>\n",
              "    <tr>\n",
              "      <th id=\"T_bb271_level0_row3\" class=\"row_heading level0 row3\" >min</th>\n",
              "      <td id=\"T_bb271_row3_col0\" class=\"data row3 col0\" >39.900000</td>\n",
              "      <td id=\"T_bb271_row3_col1\" class=\"data row3 col1\" >26.100000</td>\n",
              "      <td id=\"T_bb271_row3_col2\" class=\"data row3 col2\" >0.000000</td>\n",
              "      <td id=\"T_bb271_row3_col3\" class=\"data row3 col3\" >504</td>\n",
              "      <td id=\"T_bb271_row3_col4\" class=\"data row3 col4\" >997</td>\n",
              "      <td id=\"T_bb271_row3_col5\" class=\"data row3 col5\" >1440</td>\n",
              "      <td id=\"T_bb271_row3_col6\" class=\"data row3 col6\" >1306</td>\n",
              "      <td id=\"T_bb271_row3_col7\" class=\"data row3 col7\" >4335</td>\n",
              "    </tr>\n",
              "    <tr>\n",
              "      <th id=\"T_bb271_level0_row4\" class=\"row_heading level0 row4\" >25%</th>\n",
              "      <td id=\"T_bb271_row4_col0\" class=\"data row4 col0\" >66.050000</td>\n",
              "      <td id=\"T_bb271_row4_col1\" class=\"data row4 col1\" >53.225000</td>\n",
              "      <td id=\"T_bb271_row4_col2\" class=\"data row4 col2\" >0.000000</td>\n",
              "      <td id=\"T_bb271_row4_col3\" class=\"data row4 col3\" >2387</td>\n",
              "      <td id=\"T_bb271_row4_col4\" class=\"data row4 col4\" >3713</td>\n",
              "      <td id=\"T_bb271_row4_col5\" class=\"data row4 col5\" >4884</td>\n",
              "      <td id=\"T_bb271_row4_col6\" class=\"data row4 col6\" >3495</td>\n",
              "      <td id=\"T_bb271_row4_col7\" class=\"data row4 col7\" >14825</td>\n",
              "    </tr>\n",
              "    <tr>\n",
              "      <th id=\"T_bb271_level0_row5\" class=\"row_heading level0 row5\" >50%</th>\n",
              "      <td id=\"T_bb271_row5_col0\" class=\"data row5 col0\" >78.100000</td>\n",
              "      <td id=\"T_bb271_row5_col1\" class=\"data row5 col1\" >64.900000</td>\n",
              "      <td id=\"T_bb271_row5_col2\" class=\"data row5 col2\" >0.000000</td>\n",
              "      <td id=\"T_bb271_row5_col3\" class=\"data row5 col3\" >3076</td>\n",
              "      <td id=\"T_bb271_row5_col4\" class=\"data row5 col4\" >5132</td>\n",
              "      <td id=\"T_bb271_row5_col5\" class=\"data row5 col5\" >6334</td>\n",
              "      <td id=\"T_bb271_row5_col6\" class=\"data row5 col6\" >4342</td>\n",
              "      <td id=\"T_bb271_row5_col7\" class=\"data row5 col7\" >19001</td>\n",
              "    </tr>\n",
              "    <tr>\n",
              "      <th id=\"T_bb271_level0_row6\" class=\"row_heading level0 row6\" >75%</th>\n",
              "      <td id=\"T_bb271_row6_col0\" class=\"data row6 col0\" >84.900000</td>\n",
              "      <td id=\"T_bb271_row6_col1\" class=\"data row6 col1\" >71.100000</td>\n",
              "      <td id=\"T_bb271_row6_col2\" class=\"data row6 col2\" >0.085000</td>\n",
              "      <td id=\"T_bb271_row6_col3\" class=\"data row6 col3\" >3685</td>\n",
              "      <td id=\"T_bb271_row6_col4\" class=\"data row6 col4\" >6609</td>\n",
              "      <td id=\"T_bb271_row6_col5\" class=\"data row6 col5\" >7858</td>\n",
              "      <td id=\"T_bb271_row6_col6\" class=\"data row6 col6\" >5308</td>\n",
              "      <td id=\"T_bb271_row6_col7\" class=\"data row6 col7\" >23253</td>\n",
              "    </tr>\n",
              "    <tr>\n",
              "      <th id=\"T_bb271_level0_row7\" class=\"row_heading level0 row7\" >max</th>\n",
              "      <td id=\"T_bb271_row7_col0\" class=\"data row7 col0\" >96.100000</td>\n",
              "      <td id=\"T_bb271_row7_col1\" class=\"data row7 col1\" >82.000000</td>\n",
              "      <td id=\"T_bb271_row7_col2\" class=\"data row7 col2\" >1.650000</td>\n",
              "      <td id=\"T_bb271_row7_col3\" class=\"data row7 col3\" >8264</td>\n",
              "      <td id=\"T_bb271_row7_col4\" class=\"data row7 col4\" >9152</td>\n",
              "      <td id=\"T_bb271_row7_col5\" class=\"data row7 col5\" >9148</td>\n",
              "      <td id=\"T_bb271_row7_col6\" class=\"data row7 col6\" >6392</td>\n",
              "      <td id=\"T_bb271_row7_col7\" class=\"data row7 col7\" >28437</td>\n",
              "    </tr>\n",
              "  </tbody>\n",
              "</table>\n"
            ]
          },
          "metadata": {},
          "execution_count": 6
        }
      ],
      "source": [
        "stats = bikers_data.describe()\n",
        "Bridges = ['Brooklyn Bridge', 'Manhattan Bridge', 'Williamsburg Bridge', 'Queensboro Bridge']\n",
        "def convert_data_int(stat, Bridges_list):\n",
        "  for x in range(len(Bridges)): \n",
        "    stat[Bridges[x]] = stat[Bridges[x]].astype(int)\n",
        "  stat[\"Total\"] = stat[\"Total\"].astype(int) \n",
        "  return stat.style\n",
        "convert_data_int(stats, Bridges)"
      ]
    },
    {
      "cell_type": "markdown",
      "id": "10360bb9-38a4-4d40-9b8a-9177857ee1f9",
      "metadata": {
        "id": "10360bb9-38a4-4d40-9b8a-9177857ee1f9"
      },
      "source": [
        "The mean and standard deviation is calculated for the number of bikers at each bridge. The calculations are done to find the number of datapoints that are within one standard deviation of the mean. "
      ]
    },
    {
      "cell_type": "code",
      "execution_count": 7,
      "id": "411b5b28-90fc-4d40-bb98-04d2dfad7943",
      "metadata": {
        "colab": {
          "base_uri": "https://localhost:8080/"
        },
        "id": "411b5b28-90fc-4d40-bb98-04d2dfad7943",
        "outputId": "f93e0ba7-64ca-4e91-8737-27f30eca8acc"
      },
      "outputs": [
        {
          "output_type": "stream",
          "name": "stdout",
          "text": [
            "Datapoints(Brooklyn) within 1 standard deviation: 157\n",
            "Percentage of datapoints within 1 standard deviation: 73.36448598130842\n",
            "\n",
            "Datapoints(Manhattan) within 1 standard deviation: 125\n",
            "Percentage of datapoints within 1 standard deviation: 58.41121495327103\n",
            "\n",
            "Datapoints(Williamsburg) within 1 standard deviation: 134\n",
            "Percentage of datapoints within 1 standard deviation: 62.616822429906534\n",
            "\n",
            "Datapoints(Queensboro) within 1 standard deviation: 133\n",
            "Percentage of datapoints within 1 standard deviation: 62.149532710280376\n"
          ]
        }
      ],
      "source": [
        "mean_list, std_list, range_list = [], [], []\n",
        "for i in range(0, len(Bridges)):\n",
        "  mean = np.mean(bikers_data[Bridges[i]])\n",
        "  standard_deviation = np.std(bikers_data[Bridges[i]])\n",
        "  mean_list.append(int(mean))\n",
        "  std_list.append(int(standard_deviation))\n",
        "for j in range(0, len(mean_list)):\n",
        "  range1 = mean_list[j] + std_list[j]\n",
        "  range2 = mean_list[j] - std_list[j]\n",
        "  range_list.append(range1)\n",
        "  range_list.append(range2)\n",
        "\n",
        "for k in range(0, len(Bridges)):\n",
        "  count = 0\n",
        "  if (k == 0):\n",
        "    c1 = list(((bikers_data[\"Brooklyn Bridge\"] <= range_list[k]) & (bikers_data[\"Brooklyn Bridge\"] >= range_list[k + 1])))\n",
        "    for boolean_value in c1:\n",
        "      if (boolean_value == True):\n",
        "        count += 1\n",
        "    percentage = (count / rows) * 100\n",
        "    print('Datapoints(Brooklyn) within 1 standard deviation: {}'.format(count)) \n",
        "    print('Percentage of datapoints within 1 standard deviation: {}'.format(percentage)) \n",
        "  if (k == 1):\n",
        "    c2 = list(((bikers_data[\"Manhattan Bridge\"] <= range_list[k + 1]) & (bikers_data[\"Manhattan Bridge\"] >= range_list[k + 2])))\n",
        "    for boolean_value in c2:\n",
        "      if (boolean_value == True):\n",
        "        count += 1\n",
        "    percentage = (count / rows) * 100\n",
        "    print('\\nDatapoints(Manhattan) within 1 standard deviation: {}'.format(count)) \n",
        "    print('Percentage of datapoints within 1 standard deviation: {}'.format(percentage)) \n",
        "  if (k == 2):\n",
        "    c3 = ((bikers_data[\"Williamsburg Bridge\"] <= range_list[k + 2]) & (bikers_data[\"Williamsburg Bridge\"] >= range_list[k + 3]))\n",
        "    for boolean_value in c3:\n",
        "      if (boolean_value == True):\n",
        "        count += 1\n",
        "    percentage = (count / rows) * 100\n",
        "    print('\\nDatapoints(Williamsburg) within 1 standard deviation: {}'.format(count)) \n",
        "    print('Percentage of datapoints within 1 standard deviation: {}'.format(percentage)) \n",
        "  if (k == 3):\n",
        "    c4 = ((bikers_data[\"Queensboro Bridge\"] <= range_list[k + 3]) & (bikers_data[\"Queensboro Bridge\"] >= range_list[k + 4]))\n",
        "    for boolean_value in c4:\n",
        "      if (boolean_value == True):\n",
        "        count += 1\n",
        "    percentage = (count / rows) * 100\n",
        "    print('\\nDatapoints(Queensboro) within 1 standard deviation: {}'.format(count)) \n",
        "    print('Percentage of datapoints within 1 standard deviation: {}'.format(percentage)) "
      ]
    },
    {
      "cell_type": "markdown",
      "id": "115b31db-7ace-4d10-b92a-0a0a34aa4150",
      "metadata": {
        "id": "115b31db-7ace-4d10-b92a-0a0a34aa4150"
      },
      "source": [
        "A bar chart and later histograms are made for better comprehension and visualization of the data."
      ]
    },
    {
      "cell_type": "code",
      "execution_count": 8,
      "id": "6d8d0f09-93ef-4efb-bc4e-a55a990c0145",
      "metadata": {
        "colab": {
          "base_uri": "https://localhost:8080/",
          "height": 445
        },
        "id": "6d8d0f09-93ef-4efb-bc4e-a55a990c0145",
        "outputId": "da94dc49-1de1-4ccd-ee59-a301355fa517"
      },
      "outputs": [
        {
          "output_type": "display_data",
          "data": {
            "text/plain": [
              "<Figure size 800x500 with 1 Axes>"
            ],
            "image/png": "[encoded data removed]"
          },
          "metadata": {}
        }
      ],
      "source": [
        "plt.figure(figsize = (8, 5))\n",
        "bridges_data = [mean_list[0], mean_list[1], mean_list[2], mean_list[3]]\n",
        "plt.bar(Bridges, bridges_data, color = ['gray'])\n",
        "plt.ylabel('Total number of bikers')\n",
        "plt.show()"
      ]
    },
    {
      "cell_type": "code",
      "execution_count": 9,
      "id": "139a9f96-c0c3-4104-a4fa-c79c44d50128",
      "metadata": {
        "colab": {
          "base_uri": "https://localhost:8080/",
          "height": 342
        },
        "id": "139a9f96-c0c3-4104-a4fa-c79c44d50128",
        "outputId": "4b66ecb8-bc37-4a50-b5ae-c94c4b2ff37f"
      },
      "outputs": [
        {
          "output_type": "display_data",
          "data": {
            "text/plain": [
              "<Figure size 2000x500 with 4 Axes>"
            ],
            "image/png": "[encoded data removed]"
          },
          "metadata": {}
        }
      ],
      "source": [
        "color_list = ['brown', 'gray', 'orange', 'green']\n",
        "plt.figure(figsize = (20, 5))\n",
        "for iterate in range(0, len(Bridges)):\n",
        "  plt.subplot(1, 4, iterate + 1)\n",
        "  bridge_selection = (bikers_data[Bridges[iterate]])\n",
        "  sns.histplot(bridge_selection, color = color_list[iterate])\n",
        "plt.show()"
      ]
    },
    {
      "cell_type": "markdown",
      "id": "10e7fc95-4a22-499d-bccf-b3fb7b0b5a8a",
      "metadata": {
        "id": "10e7fc95-4a22-499d-bccf-b3fb7b0b5a8a"
      },
      "source": [
        "This section gives the temperature values when the number of bikers at each bridge are greater than or equal to the mean value. The top and bottom five rows are displayed."
      ]
    },
    {
      "cell_type": "code",
      "execution_count": 10,
      "id": "5bdd2ac4-9929-407e-8961-21037bd15cb7",
      "metadata": {
        "colab": {
          "base_uri": "https://localhost:8080/",
          "height": 206
        },
        "id": "5bdd2ac4-9929-407e-8961-21037bd15cb7",
        "outputId": "a6f7625b-5b14-4fe7-958b-d7d9668bdc8c"
      },
      "outputs": [
        {
          "output_type": "execute_result",
          "data": {
            "text/plain": [
              "    High Temp (°F)  Low Temp (°F)  Precipitation  Brooklyn Bridge  \\\n",
              "17            81.0           52.0            0.0             3871   \n",
              "18            71.1           63.0            0.0             3501   \n",
              "19            68.0           50.0            0.0             3450   \n",
              "20            71.1           50.0            0.0             3436   \n",
              "24            66.9           54.0            0.0             3463   \n",
              "\n",
              "    Manhattan Bridge  Williamsburg Bridge  Queensboro Bridge  Total  \n",
              "17              6823                 7432               4964  23090  \n",
              "18              6951                 7834               5032  23318  \n",
              "19              6574                 7639               4928  22591  \n",
              "20              6452                 7426               4813  22127  \n",
              "24              5978                 6845               4564  20850  "
            ],
            "text/html": [
              "\n",
              "  <div id=\"df-6cd570b7-5ad7-4a57-a4dc-7d3bef592efb\">\n",
              "    <div class=\"colab-df-container\">\n",
              "      <div>\n",
              "<style scoped>\n",
              "    .dataframe tbody tr th:only-of-type {\n",
              "        vertical-align: middle;\n",
              "    }\n",
              "\n",
              "    .dataframe tbody tr th {\n",
              "        vertical-align: top;\n",
              "    }\n",
              "\n",
              "    .dataframe thead th {\n",
              "        text-align: right;\n",
              "    }\n",
              "</style>\n",
              "<table border=\"1\" class=\"dataframe\">\n",
              "  <thead>\n",
              "    <tr style=\"text-align: right;\">\n",
              "      <th></th>\n",
              "      <th>High Temp (°F)</th>\n",
              "      <th>Low Temp (°F)</th>\n",
              "      <th>Precipitation</th>\n",
              "      <th>Brooklyn Bridge</th>\n",
              "      <th>Manhattan Bridge</th>\n",
              "      <th>Williamsburg Bridge</th>\n",
              "      <th>Queensboro Bridge</th>\n",
              "      <th>Total</th>\n",
              "    </tr>\n",
              "  </thead>\n",
              "  <tbody>\n",
              "    <tr>\n",
              "      <th>17</th>\n",
              "      <td>81.0</td>\n",
              "      <td>52.0</td>\n",
              "      <td>0.0</td>\n",
              "      <td>3871</td>\n",
              "      <td>6823</td>\n",
              "      <td>7432</td>\n",
              "      <td>4964</td>\n",
              "      <td>23090</td>\n",
              "    </tr>\n",
              "    <tr>\n",
              "      <th>18</th>\n",
              "      <td>71.1</td>\n",
              "      <td>63.0</td>\n",
              "      <td>0.0</td>\n",
              "      <td>3501</td>\n",
              "      <td>6951</td>\n",
              "      <td>7834</td>\n",
              "      <td>5032</td>\n",
              "      <td>23318</td>\n",
              "    </tr>\n",
              "    <tr>\n",
              "      <th>19</th>\n",
              "      <td>68.0</td>\n",
              "      <td>50.0</td>\n",
              "      <td>0.0</td>\n",
              "      <td>3450</td>\n",
              "      <td>6574</td>\n",
              "      <td>7639</td>\n",
              "      <td>4928</td>\n",
              "      <td>22591</td>\n",
              "    </tr>\n",
              "    <tr>\n",
              "      <th>20</th>\n",
              "      <td>71.1</td>\n",
              "      <td>50.0</td>\n",
              "      <td>0.0</td>\n",
              "      <td>3436</td>\n",
              "      <td>6452</td>\n",
              "      <td>7426</td>\n",
              "      <td>4813</td>\n",
              "      <td>22127</td>\n",
              "    </tr>\n",
              "    <tr>\n",
              "      <th>24</th>\n",
              "      <td>66.9</td>\n",
              "      <td>54.0</td>\n",
              "      <td>0.0</td>\n",
              "      <td>3463</td>\n",
              "      <td>5978</td>\n",
              "      <td>6845</td>\n",
              "      <td>4564</td>\n",
              "      <td>20850</td>\n",
              "    </tr>\n",
              "  </tbody>\n",
              "</table>\n",
              "</div>\n",
              "      <button class=\"colab-df-convert\" onclick=\"convertToInteractive('df-6cd570b7-5ad7-4a57-a4dc-7d3bef592efb')\"\n",
              "              title=\"Convert this dataframe to an interactive table.\"\n",
              "              style=\"display:none;\">\n",
              "        \n",
              "  <svg xmlns=\"http://www.w3.org/2000/svg\" height=\"24px\"viewBox=\"0 0 24 24\"\n",
              "       width=\"24px\">\n",
              "    <path d=\"M0 0h24v24H0V0z\" fill=\"none\"/>\n",
              "    <path d=\"M18.56 5.44l.94 2.06.94-2.06 2.06-.94-2.06-.94-.94-2.06-.94 2.06-2.06.94zm-11 1L8.5 8.5l.94-2.06 2.06-.94-2.06-.94L8.5 2.5l-.94 2.06-2.06.94zm10 10l.94 2.06.94-2.06 2.06-.94-2.06-.94-.94-2.06-.94 2.06-2.06.94z\"/><path d=\"M17.41 7.96l-1.37-1.37c-.4-.4-.92-.59-1.43-.59-.52 0-1.04.2-1.43.59L10.3 9.45l-7.72 7.72c-.78.78-.78 2.05 0 2.83L4 21.41c.39.39.9.59 1.41.59.51 0 1.02-.2 1.41-.59l7.78-7.78 2.81-2.81c.8-.78.8-2.07 0-2.86zM5.41 20L4 18.59l7.72-7.72 1.47 1.35L5.41 20z\"/>\n",
              "  </svg>\n",
              "      </button>\n",
              "      \n",
              "  <style>\n",
              "    .colab-df-container {\n",
              "      display:flex;\n",
              "      flex-wrap:wrap;\n",
              "      gap: 12px;\n",
              "    }\n",
              "\n",
              "    .colab-df-convert {\n",
              "      background-color: #E8F0FE;\n",
              "      border: none;\n",
              "      border-radius: 50%;\n",
              "      cursor: pointer;\n",
              "      display: none;\n",
              "      fill: #1967D2;\n",
              "      height: 32px;\n",
              "      padding: 0 0 0 0;\n",
              "      width: 32px;\n",
              "    }\n",
              "\n",
              "    .colab-df-convert:hover {\n",
              "      background-color: #E2EBFA;\n",
              "      box-shadow: 0px 1px 2px rgba(60, 64, 67, 0.3), 0px 1px 3px 1px rgba(60, 64, 67, 0.15);\n",
              "      fill: #174EA6;\n",
              "    }\n",
              "\n",
              "    [theme=dark] .colab-df-convert {\n",
              "      background-color: #3B4455;\n",
              "      fill: #D2E3FC;\n",
              "    }\n",
              "\n",
              "    [theme=dark] .colab-df-convert:hover {\n",
              "      background-color: #434B5C;\n",
              "      box-shadow: 0px 1px 3px 1px rgba(0, 0, 0, 0.15);\n",
              "      filter: drop-shadow(0px 1px 2px rgba(0, 0, 0, 0.3));\n",
              "      fill: #FFFFFF;\n",
              "    }\n",
              "  </style>\n",
              "\n",
              "      <script>\n",
              "        const buttonEl =\n",
              "          document.querySelector('#df-6cd570b7-5ad7-4a57-a4dc-7d3bef592efb button.colab-df-convert');\n",
              "        buttonEl.style.display =\n",
              "          google.colab.kernel.accessAllowed ? 'block' : 'none';\n",
              "\n",
              "        async function convertToInteractive(key) {\n",
              "          const element = document.querySelector('#df-6cd570b7-5ad7-4a57-a4dc-7d3bef592efb');\n",
              "          const dataTable =\n",
              "            await google.colab.kernel.invokeFunction('convertToInteractive',\n",
              "                                                     [key], {});\n",
              "          if (!dataTable) return;\n",
              "\n",
              "          const docLinkHtml = 'Like what you see? Visit the ' +\n",
              "            '<a target=\"_blank\" href=https://colab.research.google.com/notebooks/data_table.ipynb>data table notebook</a>'\n",
              "            + ' to learn more about interactive tables.';\n",
              "          element.innerHTML = '';\n",
              "          dataTable['output_type'] = 'display_data';\n",
              "          await google.colab.output.renderOutput(dataTable, element);\n",
              "          const docLink = document.createElement('div');\n",
              "          docLink.innerHTML = docLinkHtml;\n",
              "          element.appendChild(docLink);\n",
              "        }\n",
              "      </script>\n",
              "    </div>\n",
              "  </div>\n",
              "  "
            ]
          },
          "metadata": {},
          "execution_count": 10
        }
      ],
      "source": [
        "condition1 = ((bikers_data['Brooklyn Bridge'] >= 3030) & (bikers_data['Manhattan Bridge'] >= 5052))\n",
        "condition2 = ((bikers_data['Williamsburg Bridge'] >= 6160) & (bikers_data['Queensboro Bridge'] >= 4300))\n",
        "conditional_data1 = bikers_data.loc[ (condition1) & (condition2)]\n",
        "conditional_data1.head()"
      ]
    },
    {
      "cell_type": "code",
      "execution_count": 11,
      "id": "56710b9a-bf6a-4ab1-9f9c-e160892e7866",
      "metadata": {
        "colab": {
          "base_uri": "https://localhost:8080/",
          "height": 206
        },
        "id": "56710b9a-bf6a-4ab1-9f9c-e160892e7866",
        "outputId": "df5ee43b-3c43-4a12-d44c-a9b715272dc1"
      },
      "outputs": [
        {
          "output_type": "execute_result",
          "data": {
            "text/plain": [
              "     High Temp (°F)  Low Temp (°F)  Precipitation  Brooklyn Bridge  \\\n",
              "193            63.0           46.9            0.0             3184   \n",
              "195            66.9           55.0            NaN             3079   \n",
              "199            80.1           63.0            0.0             3465   \n",
              "200            81.0           66.9            0.0             4029   \n",
              "201            84.0           69.1            0.0             3966   \n",
              "\n",
              "     Manhattan Bridge  Williamsburg Bridge  Queensboro Bridge  Total  \n",
              "193              6201                 7227               4334  20946  \n",
              "195              6171                 7144               4379  20773  \n",
              "199              6719                 7731               4662  22577  \n",
              "200              7594                 8761               5098  25482  \n",
              "201              7447                 8582               5625  25620  "
            ],
            "text/html": [
              "\n",
              "  <div id=\"df-5758edc5-2b83-4152-b22b-aa68fe2129da\">\n",
              "    <div class=\"colab-df-container\">\n",
              "      <div>\n",
              "<style scoped>\n",
              "    .dataframe tbody tr th:only-of-type {\n",
              "        vertical-align: middle;\n",
              "    }\n",
              "\n",
              "    .dataframe tbody tr th {\n",
              "        vertical-align: top;\n",
              "    }\n",
              "\n",
              "    .dataframe thead th {\n",
              "        text-align: right;\n",
              "    }\n",
              "</style>\n",
              "<table border=\"1\" class=\"dataframe\">\n",
              "  <thead>\n",
              "    <tr style=\"text-align: right;\">\n",
              "      <th></th>\n",
              "      <th>High Temp (°F)</th>\n",
              "      <th>Low Temp (°F)</th>\n",
              "      <th>Precipitation</th>\n",
              "      <th>Brooklyn Bridge</th>\n",
              "      <th>Manhattan Bridge</th>\n",
              "      <th>Williamsburg Bridge</th>\n",
              "      <th>Queensboro Bridge</th>\n",
              "      <th>Total</th>\n",
              "    </tr>\n",
              "  </thead>\n",
              "  <tbody>\n",
              "    <tr>\n",
              "      <th>193</th>\n",
              "      <td>63.0</td>\n",
              "      <td>46.9</td>\n",
              "      <td>0.0</td>\n",
              "      <td>3184</td>\n",
              "      <td>6201</td>\n",
              "      <td>7227</td>\n",
              "      <td>4334</td>\n",
              "      <td>20946</td>\n",
              "    </tr>\n",
              "    <tr>\n",
              "      <th>195</th>\n",
              "      <td>66.9</td>\n",
              "      <td>55.0</td>\n",
              "      <td>NaN</td>\n",
              "      <td>3079</td>\n",
              "      <td>6171</td>\n",
              "      <td>7144</td>\n",
              "      <td>4379</td>\n",
              "      <td>20773</td>\n",
              "    </tr>\n",
              "    <tr>\n",
              "      <th>199</th>\n",
              "      <td>80.1</td>\n",
              "      <td>63.0</td>\n",
              "      <td>0.0</td>\n",
              "      <td>3465</td>\n",
              "      <td>6719</td>\n",
              "      <td>7731</td>\n",
              "      <td>4662</td>\n",
              "      <td>22577</td>\n",
              "    </tr>\n",
              "    <tr>\n",
              "      <th>200</th>\n",
              "      <td>81.0</td>\n",
              "      <td>66.9</td>\n",
              "      <td>0.0</td>\n",
              "      <td>4029</td>\n",
              "      <td>7594</td>\n",
              "      <td>8761</td>\n",
              "      <td>5098</td>\n",
              "      <td>25482</td>\n",
              "    </tr>\n",
              "    <tr>\n",
              "      <th>201</th>\n",
              "      <td>84.0</td>\n",
              "      <td>69.1</td>\n",
              "      <td>0.0</td>\n",
              "      <td>3966</td>\n",
              "      <td>7447</td>\n",
              "      <td>8582</td>\n",
              "      <td>5625</td>\n",
              "      <td>25620</td>\n",
              "    </tr>\n",
              "  </tbody>\n",
              "</table>\n",
              "</div>\n",
              "      <button class=\"colab-df-convert\" onclick=\"convertToInteractive('df-5758edc5-2b83-4152-b22b-aa68fe2129da')\"\n",
              "              title=\"Convert this dataframe to an interactive table.\"\n",
              "              style=\"display:none;\">\n",
              "        \n",
              "  <svg xmlns=\"http://www.w3.org/2000/svg\" height=\"24px\"viewBox=\"0 0 24 24\"\n",
              "       width=\"24px\">\n",
              "    <path d=\"M0 0h24v24H0V0z\" fill=\"none\"/>\n",
              "    <path d=\"M18.56 5.44l.94 2.06.94-2.06 2.06-.94-2.06-.94-.94-2.06-.94 2.06-2.06.94zm-11 1L8.5 8.5l.94-2.06 2.06-.94-2.06-.94L8.5 2.5l-.94 2.06-2.06.94zm10 10l.94 2.06.94-2.06 2.06-.94-2.06-.94-.94-2.06-.94 2.06-2.06.94z\"/><path d=\"M17.41 7.96l-1.37-1.37c-.4-.4-.92-.59-1.43-.59-.52 0-1.04.2-1.43.59L10.3 9.45l-7.72 7.72c-.78.78-.78 2.05 0 2.83L4 21.41c.39.39.9.59 1.41.59.51 0 1.02-.2 1.41-.59l7.78-7.78 2.81-2.81c.8-.78.8-2.07 0-2.86zM5.41 20L4 18.59l7.72-7.72 1.47 1.35L5.41 20z\"/>\n",
              "  </svg>\n",
              "      </button>\n",
              "      \n",
              "  <style>\n",
              "    .colab-df-container {\n",
              "      display:flex;\n",
              "      flex-wrap:wrap;\n",
              "      gap: 12px;\n",
              "    }\n",
              "\n",
              "    .colab-df-convert {\n",
              "      background-color: #E8F0FE;\n",
              "      border: none;\n",
              "      border-radius: 50%;\n",
              "      cursor: pointer;\n",
              "      display: none;\n",
              "      fill: #1967D2;\n",
              "      height: 32px;\n",
              "      padding: 0 0 0 0;\n",
              "      width: 32px;\n",
              "    }\n",
              "\n",
              "    .colab-df-convert:hover {\n",
              "      background-color: #E2EBFA;\n",
              "      box-shadow: 0px 1px 2px rgba(60, 64, 67, 0.3), 0px 1px 3px 1px rgba(60, 64, 67, 0.15);\n",
              "      fill: #174EA6;\n",
              "    }\n",
              "\n",
              "    [theme=dark] .colab-df-convert {\n",
              "      background-color: #3B4455;\n",
              "      fill: #D2E3FC;\n",
              "    }\n",
              "\n",
              "    [theme=dark] .colab-df-convert:hover {\n",
              "      background-color: #434B5C;\n",
              "      box-shadow: 0px 1px 3px 1px rgba(0, 0, 0, 0.15);\n",
              "      filter: drop-shadow(0px 1px 2px rgba(0, 0, 0, 0.3));\n",
              "      fill: #FFFFFF;\n",
              "    }\n",
              "  </style>\n",
              "\n",
              "      <script>\n",
              "        const buttonEl =\n",
              "          document.querySelector('#df-5758edc5-2b83-4152-b22b-aa68fe2129da button.colab-df-convert');\n",
              "        buttonEl.style.display =\n",
              "          google.colab.kernel.accessAllowed ? 'block' : 'none';\n",
              "\n",
              "        async function convertToInteractive(key) {\n",
              "          const element = document.querySelector('#df-5758edc5-2b83-4152-b22b-aa68fe2129da');\n",
              "          const dataTable =\n",
              "            await google.colab.kernel.invokeFunction('convertToInteractive',\n",
              "                                                     [key], {});\n",
              "          if (!dataTable) return;\n",
              "\n",
              "          const docLinkHtml = 'Like what you see? Visit the ' +\n",
              "            '<a target=\"_blank\" href=https://colab.research.google.com/notebooks/data_table.ipynb>data table notebook</a>'\n",
              "            + ' to learn more about interactive tables.';\n",
              "          element.innerHTML = '';\n",
              "          dataTable['output_type'] = 'display_data';\n",
              "          await google.colab.output.renderOutput(dataTable, element);\n",
              "          const docLink = document.createElement('div');\n",
              "          docLink.innerHTML = docLinkHtml;\n",
              "          element.appendChild(docLink);\n",
              "        }\n",
              "      </script>\n",
              "    </div>\n",
              "  </div>\n",
              "  "
            ]
          },
          "metadata": {},
          "execution_count": 11
        }
      ],
      "source": [
        "conditional_data1.tail()"
      ]
    },
    {
      "cell_type": "markdown",
      "id": "dc46f1fe-5897-4467-8e69-201948d7ab40",
      "metadata": {
        "id": "dc46f1fe-5897-4467-8e69-201948d7ab40"
      },
      "source": [
        "The statistics are displayed, and then, the data (only number of bikers at each bridge and total) is converted to integers. "
      ]
    },
    {
      "cell_type": "code",
      "execution_count": 12,
      "id": "db374f21-2588-4bb8-b4ce-79650769f254",
      "metadata": {
        "colab": {
          "base_uri": "https://localhost:8080/",
          "height": 300
        },
        "id": "db374f21-2588-4bb8-b4ce-79650769f254",
        "outputId": "bfa90bc9-df6b-40ea-d074-65bae4202a2e"
      },
      "outputs": [
        {
          "output_type": "execute_result",
          "data": {
            "text/plain": [
              "<pandas.io.formats.style.Styler at 0x7fa4a4c0b9a0>"
            ],
            "text/html": [
              "<style type=\"text/css\">\n",
              "</style>\n",
              "<table id=\"T_49957\" class=\"dataframe\">\n",
              "  <thead>\n",
              "    <tr>\n",
              "      <th class=\"blank level0\" >&nbsp;</th>\n",
              "      <th id=\"T_49957_level0_col0\" class=\"col_heading level0 col0\" >High Temp (°F)</th>\n",
              "      <th id=\"T_49957_level0_col1\" class=\"col_heading level0 col1\" >Low Temp (°F)</th>\n",
              "      <th id=\"T_49957_level0_col2\" class=\"col_heading level0 col2\" >Precipitation</th>\n",
              "      <th id=\"T_49957_level0_col3\" class=\"col_heading level0 col3\" >Brooklyn Bridge</th>\n",
              "      <th id=\"T_49957_level0_col4\" class=\"col_heading level0 col4\" >Manhattan Bridge</th>\n",
              "      <th id=\"T_49957_level0_col5\" class=\"col_heading level0 col5\" >Williamsburg Bridge</th>\n",
              "      <th id=\"T_49957_level0_col6\" class=\"col_heading level0 col6\" >Queensboro Bridge</th>\n",
              "      <th id=\"T_49957_level0_col7\" class=\"col_heading level0 col7\" >Total</th>\n",
              "    </tr>\n",
              "  </thead>\n",
              "  <tbody>\n",
              "    <tr>\n",
              "      <th id=\"T_49957_level0_row0\" class=\"row_heading level0 row0\" >count</th>\n",
              "      <td id=\"T_49957_row0_col0\" class=\"data row0 col0\" >84.000000</td>\n",
              "      <td id=\"T_49957_row0_col1\" class=\"data row0 col1\" >84.000000</td>\n",
              "      <td id=\"T_49957_row0_col2\" class=\"data row0 col2\" >79.000000</td>\n",
              "      <td id=\"T_49957_row0_col3\" class=\"data row0 col3\" >84</td>\n",
              "      <td id=\"T_49957_row0_col4\" class=\"data row0 col4\" >84</td>\n",
              "      <td id=\"T_49957_row0_col5\" class=\"data row0 col5\" >84</td>\n",
              "      <td id=\"T_49957_row0_col6\" class=\"data row0 col6\" >84</td>\n",
              "      <td id=\"T_49957_row0_col7\" class=\"data row0 col7\" >84</td>\n",
              "    </tr>\n",
              "    <tr>\n",
              "      <th id=\"T_49957_level0_row1\" class=\"row_heading level0 row1\" >mean</th>\n",
              "      <td id=\"T_49957_row1_col0\" class=\"data row1 col0\" >79.983333</td>\n",
              "      <td id=\"T_49957_row1_col1\" class=\"data row1 col1\" >65.236905</td>\n",
              "      <td id=\"T_49957_row1_col2\" class=\"data row1 col2\" >0.026582</td>\n",
              "      <td id=\"T_49957_row1_col3\" class=\"data row1 col3\" >3925</td>\n",
              "      <td id=\"T_49957_row1_col4\" class=\"data row1 col4\" >6669</td>\n",
              "      <td id=\"T_49957_row1_col5\" class=\"data row1 col5\" >7926</td>\n",
              "      <td id=\"T_49957_row1_col6\" class=\"data row1 col6\" >5402</td>\n",
              "      <td id=\"T_49957_row1_col7\" class=\"data row1 col7\" >23923</td>\n",
              "    </tr>\n",
              "    <tr>\n",
              "      <th id=\"T_49957_level0_row2\" class=\"row_heading level0 row2\" >std</th>\n",
              "      <td id=\"T_49957_row2_col0\" class=\"data row2 col0\" >7.772594</td>\n",
              "      <td id=\"T_49957_row2_col1\" class=\"data row2 col1\" >8.184937</td>\n",
              "      <td id=\"T_49957_row2_col2\" class=\"data row2 col2\" >0.111538</td>\n",
              "      <td id=\"T_49957_row2_col3\" class=\"data row2 col3\" >794</td>\n",
              "      <td id=\"T_49957_row2_col4\" class=\"data row2 col4\" >759</td>\n",
              "      <td id=\"T_49957_row2_col5\" class=\"data row2 col5\" >700</td>\n",
              "      <td id=\"T_49957_row2_col6\" class=\"data row2 col6\" >553</td>\n",
              "      <td id=\"T_49957_row2_col7\" class=\"data row2 col7\" >2055</td>\n",
              "    </tr>\n",
              "    <tr>\n",
              "      <th id=\"T_49957_level0_row3\" class=\"row_heading level0 row3\" >min</th>\n",
              "      <td id=\"T_49957_row3_col0\" class=\"data row3 col0\" >62.100000</td>\n",
              "      <td id=\"T_49957_row3_col1\" class=\"data row3 col1\" >46.900000</td>\n",
              "      <td id=\"T_49957_row3_col2\" class=\"data row3 col2\" >0.000000</td>\n",
              "      <td id=\"T_49957_row3_col3\" class=\"data row3 col3\" >3076</td>\n",
              "      <td id=\"T_49957_row3_col4\" class=\"data row3 col4\" >5077</td>\n",
              "      <td id=\"T_49957_row3_col5\" class=\"data row3 col5\" >6344</td>\n",
              "      <td id=\"T_49957_row3_col6\" class=\"data row3 col6\" >4309</td>\n",
              "      <td id=\"T_49957_row3_col7\" class=\"data row3 col7\" >19914</td>\n",
              "    </tr>\n",
              "    <tr>\n",
              "      <th id=\"T_49957_level0_row4\" class=\"row_heading level0 row4\" >25%</th>\n",
              "      <td id=\"T_49957_row4_col0\" class=\"data row4 col0\" >73.900000</td>\n",
              "      <td id=\"T_49957_row4_col1\" class=\"data row4 col1\" >57.900000</td>\n",
              "      <td id=\"T_49957_row4_col2\" class=\"data row4 col2\" >0.000000</td>\n",
              "      <td id=\"T_49957_row4_col3\" class=\"data row4 col3\" >3446</td>\n",
              "      <td id=\"T_49957_row4_col4\" class=\"data row4 col4\" >6197</td>\n",
              "      <td id=\"T_49957_row4_col5\" class=\"data row4 col5\" >7422</td>\n",
              "      <td id=\"T_49957_row4_col6\" class=\"data row4 col6\" >5005</td>\n",
              "      <td id=\"T_49957_row4_col7\" class=\"data row4 col7\" >22166</td>\n",
              "    </tr>\n",
              "    <tr>\n",
              "      <th id=\"T_49957_level0_row5\" class=\"row_heading level0 row5\" >50%</th>\n",
              "      <td id=\"T_49957_row5_col0\" class=\"data row5 col0\" >82.000000</td>\n",
              "      <td id=\"T_49957_row5_col1\" class=\"data row5 col1\" >66.900000</td>\n",
              "      <td id=\"T_49957_row5_col2\" class=\"data row5 col2\" >0.000000</td>\n",
              "      <td id=\"T_49957_row5_col3\" class=\"data row5 col3\" >3753</td>\n",
              "      <td id=\"T_49957_row5_col4\" class=\"data row5 col4\" >6833</td>\n",
              "      <td id=\"T_49957_row5_col5\" class=\"data row5 col5\" >7969</td>\n",
              "      <td id=\"T_49957_row5_col6\" class=\"data row5 col6\" >5361</td>\n",
              "      <td id=\"T_49957_row5_col7\" class=\"data row5 col7\" >23995</td>\n",
              "    </tr>\n",
              "    <tr>\n",
              "      <th id=\"T_49957_level0_row6\" class=\"row_heading level0 row6\" >75%</th>\n",
              "      <td id=\"T_49957_row6_col0\" class=\"data row6 col0\" >86.000000</td>\n",
              "      <td id=\"T_49957_row6_col1\" class=\"data row6 col1\" >71.325000</td>\n",
              "      <td id=\"T_49957_row6_col2\" class=\"data row6 col2\" >0.000000</td>\n",
              "      <td id=\"T_49957_row6_col3\" class=\"data row6 col3\" >4125</td>\n",
              "      <td id=\"T_49957_row6_col4\" class=\"data row6 col4\" >7146</td>\n",
              "      <td id=\"T_49957_row6_col5\" class=\"data row6 col5\" >8514</td>\n",
              "      <td id=\"T_49957_row6_col6\" class=\"data row6 col6\" >5849</td>\n",
              "      <td id=\"T_49957_row6_col7\" class=\"data row6 col7\" >25655</td>\n",
              "    </tr>\n",
              "    <tr>\n",
              "      <th id=\"T_49957_level0_row7\" class=\"row_heading level0 row7\" >max</th>\n",
              "      <td id=\"T_49957_row7_col0\" class=\"data row7 col0\" >95.000000</td>\n",
              "      <td id=\"T_49957_row7_col1\" class=\"data row7 col1\" >80.100000</td>\n",
              "      <td id=\"T_49957_row7_col2\" class=\"data row7 col2\" >0.620000</td>\n",
              "      <td id=\"T_49957_row7_col3\" class=\"data row7 col3\" >8264</td>\n",
              "      <td id=\"T_49957_row7_col4\" class=\"data row7 col4\" >9152</td>\n",
              "      <td id=\"T_49957_row7_col5\" class=\"data row7 col5\" >9148</td>\n",
              "      <td id=\"T_49957_row7_col6\" class=\"data row7 col6\" >6392</td>\n",
              "      <td id=\"T_49957_row7_col7\" class=\"data row7 col7\" >28437</td>\n",
              "    </tr>\n",
              "  </tbody>\n",
              "</table>\n"
            ]
          },
          "metadata": {},
          "execution_count": 12
        }
      ],
      "source": [
        "conditional_stats = conditional_data1.describe()\n",
        "convert_data_int(conditional_stats, Bridges)"
      ]
    },
    {
      "cell_type": "markdown",
      "id": "91c60b63-79fa-4b35-9559-311d7553884a",
      "metadata": {
        "id": "91c60b63-79fa-4b35-9559-311d7553884a"
      },
      "source": [
        "A function is defined to calculate a 95% confidence interval. "
      ]
    },
    {
      "cell_type": "code",
      "execution_count": 13,
      "id": "8bbaf7a7-a944-4d5c-8bd1-9523ff2f0657",
      "metadata": {
        "colab": {
          "base_uri": "https://localhost:8080/"
        },
        "id": "8bbaf7a7-a944-4d5c-8bd1-9523ff2f0657",
        "outputId": "5219becc-8063-479a-8705-96f929ac0587"
      },
      "outputs": [
        {
          "output_type": "stream",
          "name": "stdout",
          "text": [
            "z-score value: 1.959963984540054\n",
            "Interval: [ 23483,24362]\n"
          ]
        }
      ],
      "source": [
        "Total_data1 = conditional_data1[\"Total\"]\n",
        "def confidence(total_data):\n",
        "  confidence_interval = 0.95\n",
        "  st_dev = np.std(total_data, ddof = 1)\n",
        "  total_mean = np.mean(total_data)\n",
        "  std_error = st_dev / ((len(total_data)) ** (1 / 2))\n",
        "  z_sc = st.norm.ppf(1 - (1 - confidence_interval) / 2)\n",
        "  interval1 = total_mean - (std_error * z_sc)\n",
        "  interval2 = total_mean + (std_error * z_sc)\n",
        "  print('z-score value:', z_sc)\n",
        "  print('Interval: [ ' + str((math.trunc(interval1))) + ',' + str(math.trunc(interval2)) + ']')\n",
        "  return \n",
        "confidence(Total_data1)"
      ]
    },
    {
      "cell_type": "markdown",
      "id": "db6285e7-27dd-4de4-83f8-c71e6b5fd6e1",
      "metadata": {
        "id": "db6285e7-27dd-4de4-83f8-c71e6b5fd6e1"
      },
      "source": [
        "This section gives the temperature values when the number of bikers at each bridge are less than the mean value. The top and bottom five rows are displayed."
      ]
    },
    {
      "cell_type": "code",
      "execution_count": 14,
      "id": "7f873790-0edb-49e3-9489-eb2011c559ce",
      "metadata": {
        "colab": {
          "base_uri": "https://localhost:8080/",
          "height": 206
        },
        "id": "7f873790-0edb-49e3-9489-eb2011c559ce",
        "outputId": "719dc7c0-c447-4ab6-8cd1-76bdc507b0e1"
      },
      "outputs": [
        {
          "output_type": "execute_result",
          "data": {
            "text/plain": [
              "   High Temp (°F)  Low Temp (°F)  Precipitation  Brooklyn Bridge  \\\n",
              "0            78.1           66.0           0.01             1704   \n",
              "1            55.0           48.9           0.15              827   \n",
              "2            39.9           34.0           0.09              526   \n",
              "3            44.1           33.1            NaN              521   \n",
              "4            42.1           26.1           0.00             1416   \n",
              "\n",
              "   Manhattan Bridge  Williamsburg Bridge  Queensboro Bridge  Total  \n",
              "0              3126                 4115               2552  11497  \n",
              "1              1646                 2565               1884   6922  \n",
              "2              1232                 1695               1306   4759  \n",
              "3              1067                 1440               1307   4335  \n",
              "4              2617                 3081               2357   9471  "
            ],
            "text/html": [
              "\n",
              "  <div id=\"df-435edf38-0c8b-4ca0-be39-76fa1993f1c2\">\n",
              "    <div class=\"colab-df-container\">\n",
              "      <div>\n",
              "<style scoped>\n",
              "    .dataframe tbody tr th:only-of-type {\n",
              "        vertical-align: middle;\n",
              "    }\n",
              "\n",
              "    .dataframe tbody tr th {\n",
              "        vertical-align: top;\n",
              "    }\n",
              "\n",
              "    .dataframe thead th {\n",
              "        text-align: right;\n",
              "    }\n",
              "</style>\n",
              "<table border=\"1\" class=\"dataframe\">\n",
              "  <thead>\n",
              "    <tr style=\"text-align: right;\">\n",
              "      <th></th>\n",
              "      <th>High Temp (°F)</th>\n",
              "      <th>Low Temp (°F)</th>\n",
              "      <th>Precipitation</th>\n",
              "      <th>Brooklyn Bridge</th>\n",
              "      <th>Manhattan Bridge</th>\n",
              "      <th>Williamsburg Bridge</th>\n",
              "      <th>Queensboro Bridge</th>\n",
              "      <th>Total</th>\n",
              "    </tr>\n",
              "  </thead>\n",
              "  <tbody>\n",
              "    <tr>\n",
              "      <th>0</th>\n",
              "      <td>78.1</td>\n",
              "      <td>66.0</td>\n",
              "      <td>0.01</td>\n",
              "      <td>1704</td>\n",
              "      <td>3126</td>\n",
              "      <td>4115</td>\n",
              "      <td>2552</td>\n",
              "      <td>11497</td>\n",
              "    </tr>\n",
              "    <tr>\n",
              "      <th>1</th>\n",
              "      <td>55.0</td>\n",
              "      <td>48.9</td>\n",
              "      <td>0.15</td>\n",
              "      <td>827</td>\n",
              "      <td>1646</td>\n",
              "      <td>2565</td>\n",
              "      <td>1884</td>\n",
              "      <td>6922</td>\n",
              "    </tr>\n",
              "    <tr>\n",
              "      <th>2</th>\n",
              "      <td>39.9</td>\n",
              "      <td>34.0</td>\n",
              "      <td>0.09</td>\n",
              "      <td>526</td>\n",
              "      <td>1232</td>\n",
              "      <td>1695</td>\n",
              "      <td>1306</td>\n",
              "      <td>4759</td>\n",
              "    </tr>\n",
              "    <tr>\n",
              "      <th>3</th>\n",
              "      <td>44.1</td>\n",
              "      <td>33.1</td>\n",
              "      <td>NaN</td>\n",
              "      <td>521</td>\n",
              "      <td>1067</td>\n",
              "      <td>1440</td>\n",
              "      <td>1307</td>\n",
              "      <td>4335</td>\n",
              "    </tr>\n",
              "    <tr>\n",
              "      <th>4</th>\n",
              "      <td>42.1</td>\n",
              "      <td>26.1</td>\n",
              "      <td>0.00</td>\n",
              "      <td>1416</td>\n",
              "      <td>2617</td>\n",
              "      <td>3081</td>\n",
              "      <td>2357</td>\n",
              "      <td>9471</td>\n",
              "    </tr>\n",
              "  </tbody>\n",
              "</table>\n",
              "</div>\n",
              "      <button class=\"colab-df-convert\" onclick=\"convertToInteractive('df-435edf38-0c8b-4ca0-be39-76fa1993f1c2')\"\n",
              "              title=\"Convert this dataframe to an interactive table.\"\n",
              "              style=\"display:none;\">\n",
              "        \n",
              "  <svg xmlns=\"http://www.w3.org/2000/svg\" height=\"24px\"viewBox=\"0 0 24 24\"\n",
              "       width=\"24px\">\n",
              "    <path d=\"M0 0h24v24H0V0z\" fill=\"none\"/>\n",
              "    <path d=\"M18.56 5.44l.94 2.06.94-2.06 2.06-.94-2.06-.94-.94-2.06-.94 2.06-2.06.94zm-11 1L8.5 8.5l.94-2.06 2.06-.94-2.06-.94L8.5 2.5l-.94 2.06-2.06.94zm10 10l.94 2.06.94-2.06 2.06-.94-2.06-.94-.94-2.06-.94 2.06-2.06.94z\"/><path d=\"M17.41 7.96l-1.37-1.37c-.4-.4-.92-.59-1.43-.59-.52 0-1.04.2-1.43.59L10.3 9.45l-7.72 7.72c-.78.78-.78 2.05 0 2.83L4 21.41c.39.39.9.59 1.41.59.51 0 1.02-.2 1.41-.59l7.78-7.78 2.81-2.81c.8-.78.8-2.07 0-2.86zM5.41 20L4 18.59l7.72-7.72 1.47 1.35L5.41 20z\"/>\n",
              "  </svg>\n",
              "      </button>\n",
              "      \n",
              "  <style>\n",
              "    .colab-df-container {\n",
              "      display:flex;\n",
              "      flex-wrap:wrap;\n",
              "      gap: 12px;\n",
              "    }\n",
              "\n",
              "    .colab-df-convert {\n",
              "      background-color: #E8F0FE;\n",
              "      border: none;\n",
              "      border-radius: 50%;\n",
              "      cursor: pointer;\n",
              "      display: none;\n",
              "      fill: #1967D2;\n",
              "      height: 32px;\n",
              "      padding: 0 0 0 0;\n",
              "      width: 32px;\n",
              "    }\n",
              "\n",
              "    .colab-df-convert:hover {\n",
              "      background-color: #E2EBFA;\n",
              "      box-shadow: 0px 1px 2px rgba(60, 64, 67, 0.3), 0px 1px 3px 1px rgba(60, 64, 67, 0.15);\n",
              "      fill: #174EA6;\n",
              "    }\n",
              "\n",
              "    [theme=dark] .colab-df-convert {\n",
              "      background-color: #3B4455;\n",
              "      fill: #D2E3FC;\n",
              "    }\n",
              "\n",
              "    [theme=dark] .colab-df-convert:hover {\n",
              "      background-color: #434B5C;\n",
              "      box-shadow: 0px 1px 3px 1px rgba(0, 0, 0, 0.15);\n",
              "      filter: drop-shadow(0px 1px 2px rgba(0, 0, 0, 0.3));\n",
              "      fill: #FFFFFF;\n",
              "    }\n",
              "  </style>\n",
              "\n",
              "      <script>\n",
              "        const buttonEl =\n",
              "          document.querySelector('#df-435edf38-0c8b-4ca0-be39-76fa1993f1c2 button.colab-df-convert');\n",
              "        buttonEl.style.display =\n",
              "          google.colab.kernel.accessAllowed ? 'block' : 'none';\n",
              "\n",
              "        async function convertToInteractive(key) {\n",
              "          const element = document.querySelector('#df-435edf38-0c8b-4ca0-be39-76fa1993f1c2');\n",
              "          const dataTable =\n",
              "            await google.colab.kernel.invokeFunction('convertToInteractive',\n",
              "                                                     [key], {});\n",
              "          if (!dataTable) return;\n",
              "\n",
              "          const docLinkHtml = 'Like what you see? Visit the ' +\n",
              "            '<a target=\"_blank\" href=https://colab.research.google.com/notebooks/data_table.ipynb>data table notebook</a>'\n",
              "            + ' to learn more about interactive tables.';\n",
              "          element.innerHTML = '';\n",
              "          dataTable['output_type'] = 'display_data';\n",
              "          await google.colab.output.renderOutput(dataTable, element);\n",
              "          const docLink = document.createElement('div');\n",
              "          docLink.innerHTML = docLinkHtml;\n",
              "          element.appendChild(docLink);\n",
              "        }\n",
              "      </script>\n",
              "    </div>\n",
              "  </div>\n",
              "  "
            ]
          },
          "metadata": {},
          "execution_count": 14
        }
      ],
      "source": [
        "case1 = ((bikers_data['Brooklyn Bridge'] < 3030) & (bikers_data['Manhattan Bridge'] < 5052))\n",
        "case2 = ((bikers_data['Williamsburg Bridge'] < 6160) & (bikers_data['Queensboro Bridge'] < 4300))\n",
        "conditional_data2 = bikers_data.loc[(case1) & (case2)]\n",
        "conditional_data2.head()"
      ]
    },
    {
      "cell_type": "code",
      "execution_count": 15,
      "id": "28040853-7616-42dd-b867-d51067218e20",
      "metadata": {
        "colab": {
          "base_uri": "https://localhost:8080/",
          "height": 206
        },
        "id": "28040853-7616-42dd-b867-d51067218e20",
        "outputId": "548174b4-4028-45eb-a4f5-165e3a73fec1"
      },
      "outputs": [
        {
          "output_type": "execute_result",
          "data": {
            "text/plain": [
              "     High Temp (°F)  Low Temp (°F)  Precipitation  Brooklyn Bridge  \\\n",
              "209            54.0           41.0           1.41              651   \n",
              "210            46.9           44.1           0.00             2021   \n",
              "211            63.0           39.0           0.00             1639   \n",
              "212            75.0           57.9           0.56             1702   \n",
              "213            54.0           44.0           0.00             2648   \n",
              "\n",
              "     Manhattan Bridge  Williamsburg Bridge  Queensboro Bridge  Total  \n",
              "209              1558                 2137               1902   6248  \n",
              "210              3872                 4271               3202  13366  \n",
              "211              3160                 4027               2920  11746  \n",
              "212              2971                 3531               2547  10751  \n",
              "213              4876                 5440               3720  16684  "
            ],
            "text/html": [
              "\n",
              "  <div id=\"df-fcbbb913-2028-4d7b-aff8-3e7953b11e9f\">\n",
              "    <div class=\"colab-df-container\">\n",
              "      <div>\n",
              "<style scoped>\n",
              "    .dataframe tbody tr th:only-of-type {\n",
              "        vertical-align: middle;\n",
              "    }\n",
              "\n",
              "    .dataframe tbody tr th {\n",
              "        vertical-align: top;\n",
              "    }\n",
              "\n",
              "    .dataframe thead th {\n",
              "        text-align: right;\n",
              "    }\n",
              "</style>\n",
              "<table border=\"1\" class=\"dataframe\">\n",
              "  <thead>\n",
              "    <tr style=\"text-align: right;\">\n",
              "      <th></th>\n",
              "      <th>High Temp (°F)</th>\n",
              "      <th>Low Temp (°F)</th>\n",
              "      <th>Precipitation</th>\n",
              "      <th>Brooklyn Bridge</th>\n",
              "      <th>Manhattan Bridge</th>\n",
              "      <th>Williamsburg Bridge</th>\n",
              "      <th>Queensboro Bridge</th>\n",
              "      <th>Total</th>\n",
              "    </tr>\n",
              "  </thead>\n",
              "  <tbody>\n",
              "    <tr>\n",
              "      <th>209</th>\n",
              "      <td>54.0</td>\n",
              "      <td>41.0</td>\n",
              "      <td>1.41</td>\n",
              "      <td>651</td>\n",
              "      <td>1558</td>\n",
              "      <td>2137</td>\n",
              "      <td>1902</td>\n",
              "      <td>6248</td>\n",
              "    </tr>\n",
              "    <tr>\n",
              "      <th>210</th>\n",
              "      <td>46.9</td>\n",
              "      <td>44.1</td>\n",
              "      <td>0.00</td>\n",
              "      <td>2021</td>\n",
              "      <td>3872</td>\n",
              "      <td>4271</td>\n",
              "      <td>3202</td>\n",
              "      <td>13366</td>\n",
              "    </tr>\n",
              "    <tr>\n",
              "      <th>211</th>\n",
              "      <td>63.0</td>\n",
              "      <td>39.0</td>\n",
              "      <td>0.00</td>\n",
              "      <td>1639</td>\n",
              "      <td>3160</td>\n",
              "      <td>4027</td>\n",
              "      <td>2920</td>\n",
              "      <td>11746</td>\n",
              "    </tr>\n",
              "    <tr>\n",
              "      <th>212</th>\n",
              "      <td>75.0</td>\n",
              "      <td>57.9</td>\n",
              "      <td>0.56</td>\n",
              "      <td>1702</td>\n",
              "      <td>2971</td>\n",
              "      <td>3531</td>\n",
              "      <td>2547</td>\n",
              "      <td>10751</td>\n",
              "    </tr>\n",
              "    <tr>\n",
              "      <th>213</th>\n",
              "      <td>54.0</td>\n",
              "      <td>44.0</td>\n",
              "      <td>0.00</td>\n",
              "      <td>2648</td>\n",
              "      <td>4876</td>\n",
              "      <td>5440</td>\n",
              "      <td>3720</td>\n",
              "      <td>16684</td>\n",
              "    </tr>\n",
              "  </tbody>\n",
              "</table>\n",
              "</div>\n",
              "      <button class=\"colab-df-convert\" onclick=\"convertToInteractive('df-fcbbb913-2028-4d7b-aff8-3e7953b11e9f')\"\n",
              "              title=\"Convert this dataframe to an interactive table.\"\n",
              "              style=\"display:none;\">\n",
              "        \n",
              "  <svg xmlns=\"http://www.w3.org/2000/svg\" height=\"24px\"viewBox=\"0 0 24 24\"\n",
              "       width=\"24px\">\n",
              "    <path d=\"M0 0h24v24H0V0z\" fill=\"none\"/>\n",
              "    <path d=\"M18.56 5.44l.94 2.06.94-2.06 2.06-.94-2.06-.94-.94-2.06-.94 2.06-2.06.94zm-11 1L8.5 8.5l.94-2.06 2.06-.94-2.06-.94L8.5 2.5l-.94 2.06-2.06.94zm10 10l.94 2.06.94-2.06 2.06-.94-2.06-.94-.94-2.06-.94 2.06-2.06.94z\"/><path d=\"M17.41 7.96l-1.37-1.37c-.4-.4-.92-.59-1.43-.59-.52 0-1.04.2-1.43.59L10.3 9.45l-7.72 7.72c-.78.78-.78 2.05 0 2.83L4 21.41c.39.39.9.59 1.41.59.51 0 1.02-.2 1.41-.59l7.78-7.78 2.81-2.81c.8-.78.8-2.07 0-2.86zM5.41 20L4 18.59l7.72-7.72 1.47 1.35L5.41 20z\"/>\n",
              "  </svg>\n",
              "      </button>\n",
              "      \n",
              "  <style>\n",
              "    .colab-df-container {\n",
              "      display:flex;\n",
              "      flex-wrap:wrap;\n",
              "      gap: 12px;\n",
              "    }\n",
              "\n",
              "    .colab-df-convert {\n",
              "      background-color: #E8F0FE;\n",
              "      border: none;\n",
              "      border-radius: 50%;\n",
              "      cursor: pointer;\n",
              "      display: none;\n",
              "      fill: #1967D2;\n",
              "      height: 32px;\n",
              "      padding: 0 0 0 0;\n",
              "      width: 32px;\n",
              "    }\n",
              "\n",
              "    .colab-df-convert:hover {\n",
              "      background-color: #E2EBFA;\n",
              "      box-shadow: 0px 1px 2px rgba(60, 64, 67, 0.3), 0px 1px 3px 1px rgba(60, 64, 67, 0.15);\n",
              "      fill: #174EA6;\n",
              "    }\n",
              "\n",
              "    [theme=dark] .colab-df-convert {\n",
              "      background-color: #3B4455;\n",
              "      fill: #D2E3FC;\n",
              "    }\n",
              "\n",
              "    [theme=dark] .colab-df-convert:hover {\n",
              "      background-color: #434B5C;\n",
              "      box-shadow: 0px 1px 3px 1px rgba(0, 0, 0, 0.15);\n",
              "      filter: drop-shadow(0px 1px 2px rgba(0, 0, 0, 0.3));\n",
              "      fill: #FFFFFF;\n",
              "    }\n",
              "  </style>\n",
              "\n",
              "      <script>\n",
              "        const buttonEl =\n",
              "          document.querySelector('#df-fcbbb913-2028-4d7b-aff8-3e7953b11e9f button.colab-df-convert');\n",
              "        buttonEl.style.display =\n",
              "          google.colab.kernel.accessAllowed ? 'block' : 'none';\n",
              "\n",
              "        async function convertToInteractive(key) {\n",
              "          const element = document.querySelector('#df-fcbbb913-2028-4d7b-aff8-3e7953b11e9f');\n",
              "          const dataTable =\n",
              "            await google.colab.kernel.invokeFunction('convertToInteractive',\n",
              "                                                     [key], {});\n",
              "          if (!dataTable) return;\n",
              "\n",
              "          const docLinkHtml = 'Like what you see? Visit the ' +\n",
              "            '<a target=\"_blank\" href=https://colab.research.google.com/notebooks/data_table.ipynb>data table notebook</a>'\n",
              "            + ' to learn more about interactive tables.';\n",
              "          element.innerHTML = '';\n",
              "          dataTable['output_type'] = 'display_data';\n",
              "          await google.colab.output.renderOutput(dataTable, element);\n",
              "          const docLink = document.createElement('div');\n",
              "          docLink.innerHTML = docLinkHtml;\n",
              "          element.appendChild(docLink);\n",
              "        }\n",
              "      </script>\n",
              "    </div>\n",
              "  </div>\n",
              "  "
            ]
          },
          "metadata": {},
          "execution_count": 15
        }
      ],
      "source": [
        "conditional_data2.tail()"
      ]
    },
    {
      "cell_type": "markdown",
      "id": "6dcc4e8d-041f-4f36-b60f-36ccad1c48f2",
      "metadata": {
        "id": "6dcc4e8d-041f-4f36-b60f-36ccad1c48f2"
      },
      "source": [
        "Function is called to convert data (only number of bikers and total) to integers."
      ]
    },
    {
      "cell_type": "code",
      "execution_count": null,
      "id": "d845e751-d17e-493c-97cc-3fc0f402a4fc",
      "metadata": {
        "id": "d845e751-d17e-493c-97cc-3fc0f402a4fc",
        "outputId": "24b3257b-7a2b-464f-d506-2bf5e44cfd94"
      },
      "outputs": [
        {
          "data": {
            "text/html": [
              "<style type=\"text/css\">\n",
              "</style>\n",
              "<table id=\"T_2ae21_\">\n",
              "  <thead>\n",
              "    <tr>\n",
              "      <th class=\"blank level0\" >&nbsp;</th>\n",
              "      <th class=\"col_heading level0 col0\" >High Temp (°F)</th>\n",
              "      <th class=\"col_heading level0 col1\" >Low Temp (°F)</th>\n",
              "      <th class=\"col_heading level0 col2\" >Precipitation</th>\n",
              "      <th class=\"col_heading level0 col3\" >Brooklyn Bridge</th>\n",
              "      <th class=\"col_heading level0 col4\" >Manhattan Bridge</th>\n",
              "      <th class=\"col_heading level0 col5\" >Williamsburg Bridge</th>\n",
              "      <th class=\"col_heading level0 col6\" >Queensboro Bridge</th>\n",
              "      <th class=\"col_heading level0 col7\" >Total</th>\n",
              "    </tr>\n",
              "  </thead>\n",
              "  <tbody>\n",
              "    <tr>\n",
              "      <th id=\"T_2ae21_level0_row0\" class=\"row_heading level0 row0\" >count</th>\n",
              "      <td id=\"T_2ae21_row0_col0\" class=\"data row0 col0\" >74.000000</td>\n",
              "      <td id=\"T_2ae21_row0_col1\" class=\"data row0 col1\" >74.000000</td>\n",
              "      <td id=\"T_2ae21_row0_col2\" class=\"data row0 col2\" >69.000000</td>\n",
              "      <td id=\"T_2ae21_row0_col3\" class=\"data row0 col3\" >74</td>\n",
              "      <td id=\"T_2ae21_row0_col4\" class=\"data row0 col4\" >74</td>\n",
              "      <td id=\"T_2ae21_row0_col5\" class=\"data row0 col5\" >74</td>\n",
              "      <td id=\"T_2ae21_row0_col6\" class=\"data row0 col6\" >74</td>\n",
              "      <td id=\"T_2ae21_row0_col7\" class=\"data row0 col7\" >74</td>\n",
              "    </tr>\n",
              "    <tr>\n",
              "      <th id=\"T_2ae21_level0_row1\" class=\"row_heading level0 row1\" >mean</th>\n",
              "      <td id=\"T_2ae21_row1_col0\" class=\"data row1 col0\" >66.029730</td>\n",
              "      <td id=\"T_2ae21_row1_col1\" class=\"data row1 col1\" >55.262162</td>\n",
              "      <td id=\"T_2ae21_row1_col2\" class=\"data row1 col2\" >0.243333</td>\n",
              "      <td id=\"T_2ae21_row1_col3\" class=\"data row1 col3\" >1889</td>\n",
              "      <td id=\"T_2ae21_row1_col4\" class=\"data row1 col4\" >3223</td>\n",
              "      <td id=\"T_2ae21_row1_col5\" class=\"data row1 col5\" >4126</td>\n",
              "      <td id=\"T_2ae21_row1_col6\" class=\"data row1 col6\" >2950</td>\n",
              "      <td id=\"T_2ae21_row1_col7\" class=\"data row1 col7\" >12190</td>\n",
              "    </tr>\n",
              "    <tr>\n",
              "      <th id=\"T_2ae21_level0_row2\" class=\"row_heading level0 row2\" >std</th>\n",
              "      <td id=\"T_2ae21_row2_col0\" class=\"data row2 col0\" >13.425214</td>\n",
              "      <td id=\"T_2ae21_row2_col1\" class=\"data row2 col1\" >12.469950</td>\n",
              "      <td id=\"T_2ae21_row2_col2\" class=\"data row2 col2\" >0.380003</td>\n",
              "      <td id=\"T_2ae21_row2_col3\" class=\"data row2 col3\" >693</td>\n",
              "      <td id=\"T_2ae21_row2_col4\" class=\"data row2 col4\" >1078</td>\n",
              "      <td id=\"T_2ae21_row2_col5\" class=\"data row2 col5\" >1200</td>\n",
              "      <td id=\"T_2ae21_row2_col6\" class=\"data row2 col6\" >796</td>\n",
              "      <td id=\"T_2ae21_row2_col7\" class=\"data row2 col7\" >3650</td>\n",
              "    </tr>\n",
              "    <tr>\n",
              "      <th id=\"T_2ae21_level0_row3\" class=\"row_heading level0 row3\" >min</th>\n",
              "      <td id=\"T_2ae21_row3_col0\" class=\"data row3 col0\" >39.900000</td>\n",
              "      <td id=\"T_2ae21_row3_col1\" class=\"data row3 col1\" >26.100000</td>\n",
              "      <td id=\"T_2ae21_row3_col2\" class=\"data row3 col2\" >0.000000</td>\n",
              "      <td id=\"T_2ae21_row3_col3\" class=\"data row3 col3\" >504</td>\n",
              "      <td id=\"T_2ae21_row3_col4\" class=\"data row3 col4\" >997</td>\n",
              "      <td id=\"T_2ae21_row3_col5\" class=\"data row3 col5\" >1440</td>\n",
              "      <td id=\"T_2ae21_row3_col6\" class=\"data row3 col6\" >1306</td>\n",
              "      <td id=\"T_2ae21_row3_col7\" class=\"data row3 col7\" >4335</td>\n",
              "    </tr>\n",
              "    <tr>\n",
              "      <th id=\"T_2ae21_level0_row4\" class=\"row_heading level0 row4\" >25%</th>\n",
              "      <td id=\"T_2ae21_row4_col0\" class=\"data row4 col0\" >57.000000</td>\n",
              "      <td id=\"T_2ae21_row4_col1\" class=\"data row4 col1\" >46.225000</td>\n",
              "      <td id=\"T_2ae21_row4_col2\" class=\"data row4 col2\" >0.000000</td>\n",
              "      <td id=\"T_2ae21_row4_col3\" class=\"data row4 col3\" >1493</td>\n",
              "      <td id=\"T_2ae21_row4_col4\" class=\"data row4 col4\" >2590</td>\n",
              "      <td id=\"T_2ae21_row4_col5\" class=\"data row4 col5\" >3497</td>\n",
              "      <td id=\"T_2ae21_row4_col6\" class=\"data row4 col6\" >2458</td>\n",
              "      <td id=\"T_2ae21_row4_col7\" class=\"data row4 col7\" >9798</td>\n",
              "    </tr>\n",
              "    <tr>\n",
              "      <th id=\"T_2ae21_level0_row5\" class=\"row_heading level0 row5\" >50%</th>\n",
              "      <td id=\"T_2ae21_row5_col0\" class=\"data row5 col0\" >65.450000</td>\n",
              "      <td id=\"T_2ae21_row5_col1\" class=\"data row5 col1\" >54.500000</td>\n",
              "      <td id=\"T_2ae21_row5_col2\" class=\"data row5 col2\" >0.040000</td>\n",
              "      <td id=\"T_2ae21_row5_col3\" class=\"data row5 col3\" >1926</td>\n",
              "      <td id=\"T_2ae21_row5_col4\" class=\"data row5 col4\" >3272</td>\n",
              "      <td id=\"T_2ae21_row5_col5\" class=\"data row5 col5\" >4172</td>\n",
              "      <td id=\"T_2ae21_row5_col6\" class=\"data row5 col6\" >3002</td>\n",
              "      <td id=\"T_2ae21_row5_col7\" class=\"data row5 col7\" >12552</td>\n",
              "    </tr>\n",
              "    <tr>\n",
              "      <th id=\"T_2ae21_level0_row6\" class=\"row_heading level0 row6\" >75%</th>\n",
              "      <td id=\"T_2ae21_row6_col0\" class=\"data row6 col0\" >76.500000</td>\n",
              "      <td id=\"T_2ae21_row6_col1\" class=\"data row6 col1\" >66.000000</td>\n",
              "      <td id=\"T_2ae21_row6_col2\" class=\"data row6 col2\" >0.290000</td>\n",
              "      <td id=\"T_2ae21_row6_col3\" class=\"data row6 col3\" >2500</td>\n",
              "      <td id=\"T_2ae21_row6_col4\" class=\"data row6 col4\" >4063</td>\n",
              "      <td id=\"T_2ae21_row6_col5\" class=\"data row6 col5\" >5138</td>\n",
              "      <td id=\"T_2ae21_row6_col6\" class=\"data row6 col6\" >3608</td>\n",
              "      <td id=\"T_2ae21_row6_col7\" class=\"data row6 col7\" >15265</td>\n",
              "    </tr>\n",
              "    <tr>\n",
              "      <th id=\"T_2ae21_level0_row7\" class=\"row_heading level0 row7\" >max</th>\n",
              "      <td id=\"T_2ae21_row7_col0\" class=\"data row7 col0\" >96.100000</td>\n",
              "      <td id=\"T_2ae21_row7_col1\" class=\"data row7 col1\" >81.000000</td>\n",
              "      <td id=\"T_2ae21_row7_col2\" class=\"data row7 col2\" >1.650000</td>\n",
              "      <td id=\"T_2ae21_row7_col3\" class=\"data row7 col3\" >2975</td>\n",
              "      <td id=\"T_2ae21_row7_col4\" class=\"data row7 col4\" >5013</td>\n",
              "      <td id=\"T_2ae21_row7_col5\" class=\"data row7 col5\" >6093</td>\n",
              "      <td id=\"T_2ae21_row7_col6\" class=\"data row7 col6\" >4254</td>\n",
              "      <td id=\"T_2ae21_row7_col7\" class=\"data row7 col7\" >17837</td>\n",
              "    </tr>\n",
              "  </tbody>\n",
              "</table>\n"
            ],
            "text/plain": [
              "<pandas.io.formats.style.Styler at 0x7fd988d4b050>"
            ]
          },
          "execution_count": 14,
          "metadata": {},
          "output_type": "execute_result"
        }
      ],
      "source": [
        "conditional_stats2 = conditional_data2.describe()\n",
        "convert_data_int(conditional_stats2, Bridges)"
      ]
    },
    {
      "cell_type": "markdown",
      "id": "2da2f511-c49d-423e-8ea5-ffbcf74fdad2",
      "metadata": {
        "id": "2da2f511-c49d-423e-8ea5-ffbcf74fdad2"
      },
      "source": [
        "Function is called to calculate a 95% confidence interval."
      ]
    },
    {
      "cell_type": "code",
      "execution_count": 16,
      "id": "ab08964c-f9e2-4bfb-941f-9e1bc12278c0",
      "metadata": {
        "colab": {
          "base_uri": "https://localhost:8080/"
        },
        "id": "ab08964c-f9e2-4bfb-941f-9e1bc12278c0",
        "outputId": "443204ea-6dc5-4bda-8d2a-9af046a34888"
      },
      "outputs": [
        {
          "output_type": "stream",
          "name": "stdout",
          "text": [
            "z-score value: 1.959963984540054\n",
            "Interval: [ 11358,13021]\n"
          ]
        }
      ],
      "source": [
        "total_data2 = conditional_data2[\"Total\"]\n",
        "confidence(total_data2)"
      ]
    },
    {
      "cell_type": "markdown",
      "id": "fb65d06f-9bc1-4062-b3cc-ce34b4d4513f",
      "metadata": {
        "id": "fb65d06f-9bc1-4062-b3cc-ce34b4d4513f"
      },
      "source": [
        "The high and low temperature values are taken to calculate the average temperature on a given day. Then,the plots are generated to determine the relationship between the temperature and the number of bikers. "
      ]
    },
    {
      "cell_type": "code",
      "execution_count": 17,
      "id": "06a774e3-2cfe-4194-8972-08367efe1c08",
      "metadata": {
        "colab": {
          "base_uri": "https://localhost:8080/",
          "height": 400
        },
        "id": "06a774e3-2cfe-4194-8972-08367efe1c08",
        "outputId": "74ede187-71f0-4c32-8f9f-84dc69471912"
      },
      "outputs": [
        {
          "output_type": "display_data",
          "data": {
            "text/plain": [
              "<Figure size 1900x500 with 2 Axes>"
            ],
            "image/png": "[encoded data removed]"
          },
          "metadata": {}
        },
        {
          "output_type": "stream",
          "name": "stdout",
          "text": [
            "Correlation Fig(1,2,1): 0.29209860848629354\n",
            "Correlation Fig(1,2,2): 0.4420328565685917\n"
          ]
        }
      ],
      "source": [
        "High_temp1 = conditional_data1[\"High Temp (°F)\"]\n",
        "Low_temp1 = conditional_data1[\"Low Temp (°F)\"]\n",
        "High_temp2 = conditional_data2[\"High Temp (°F)\"]\n",
        "Low_temp2 = conditional_data2[\"Low Temp (°F)\"]\n",
        "Average_high_low1 = (High_temp1 + Low_temp1) / 2\n",
        "Average_high_low2 = (High_temp2 + Low_temp2) / 2\n",
        "total_bikers1 = conditional_data1[\"Total\"]\n",
        "total_bikers2 = conditional_data2[\"Total\"]\n",
        "plt.figure(figsize =(19, 5))\n",
        "plt.subplot(1, 2, 1)\n",
        "plt.scatter(Average_high_low1, total_bikers1, color = 'red')\n",
        "slope1, inter1 = np.polyfit(Average_high_low1, total_bikers1, 1)\n",
        "plt.plot(Average_high_low1, slope1 * Average_high_low1 + inter1, color = 'orange')\n",
        "plt.xlabel('Temperature (F)')\n",
        "plt.ylabel('Total Bikers at all bridges')\n",
        "plt.title('Relationship between Temperature and number of bikers (bikers are greater than or equal to mean)')\n",
        "plt.grid()\n",
        "plt.subplot(1, 2, 2)\n",
        "plt.scatter(Average_high_low2, total_bikers2, color = 'red')\n",
        "slope2, inter2 = np.polyfit(Average_high_low2, total_bikers2, 1)\n",
        "plt.plot(Average_high_low2, slope2 * Average_high_low2 + inter2, color = 'orange')\n",
        "plt.xlabel('Temperature (F)')\n",
        "plt.ylabel('Total Bikers at all bridges')\n",
        "plt.title('Relationship between Temperature and number of bikers (bikers are less than mean)')\n",
        "plt.grid()\n",
        "plt.show()\n",
        "print('Correlation Fig(1,2,1):',Average_high_low1.corr(total_bikers1))\n",
        "print('Correlation Fig(1,2,2):',Average_high_low2.corr(total_bikers2))"
      ]
    },
    {
      "cell_type": "markdown",
      "id": "7f1a8b64-ab72-4eae-8d3b-48ce1857f0d4",
      "metadata": {
        "id": "7f1a8b64-ab72-4eae-8d3b-48ce1857f0d4"
      },
      "source": [
        "The plots are generated to determine the relationship between precipitation and the number of bikers at each bridge. Then, the linear equations are calculated from the plots."
      ]
    },
    {
      "cell_type": "code",
      "execution_count": 18,
      "id": "4206a54f-240d-4881-9f9b-631650977272",
      "metadata": {
        "colab": {
          "base_uri": "https://localhost:8080/",
          "height": 625
        },
        "id": "4206a54f-240d-4881-9f9b-631650977272",
        "outputId": "6428978a-6730-4fd5-f8d9-d05483590476"
      },
      "outputs": [
        {
          "output_type": "display_data",
          "data": {
            "text/plain": [
              "<Figure size 2000x500 with 4 Axes>"
            ],
            "image/png": "[encoded data removed]"
          },
          "metadata": {}
        },
        {
          "output_type": "stream",
          "name": "stdout",
          "text": [
            "\n",
            "Equation 1: brooklyn_bikers= -1418.64*Precipitation + 3188.97\n",
            "\n",
            "Equation 2: manhattan_bikers= -2722.83*Precipitation + 5389.45\n",
            "\n",
            "Equation 3: williamsburg_bikers= -3061.78*Precipitation + 6538.28\n",
            "\n",
            "Equation 4: queensboro_bikers= -1851.49*Precipitation + 4531.12\n",
            "\n",
            "Correlation Fig(1,4,1): -0.3348207243792219\n",
            "\n",
            "Correlation Fig(1,4,2): -0.4148010031135251\n",
            "\n",
            "Correlation Fig(1,4,3): -0.4272161268152351\n",
            "\n",
            "Correlation Fig(1,4,4): -0.3878380768827879\n"
          ]
        }
      ],
      "source": [
        "bikers_data = bikers_data.dropna()\n",
        "Precipitation = bikers_data[\"Precipitation\"]\n",
        "Brooklyn_bikers = bikers_data[\"Brooklyn Bridge\"]\n",
        "Manhattan_bikers = bikers_data[\"Manhattan Bridge\"]\n",
        "Williamsburg_bikers = bikers_data[\"Williamsburg Bridge\"]\n",
        "Queensboro_bikers = bikers_data[\"Queensboro Bridge\"]\n",
        "plt.figure(figsize = (20, 5))\n",
        "plt.subplot(1, 4, 1)\n",
        "plt.scatter(Precipitation, Brooklyn_bikers, color = 'green')\n",
        "gradient1, intercept1 = np.polyfit(Precipitation, Brooklyn_bikers, 1)\n",
        "plt.plot(Precipitation, gradient1 * Precipitation + intercept1, color = 'red')\n",
        "plt.xlabel('Precipitation')\n",
        "plt.ylabel('Bikers at Brooklyn Bridge')\n",
        "plt.grid()\n",
        "plt.subplot(1, 4, 2)\n",
        "plt.scatter(Precipitation, Manhattan_bikers, color = 'green')\n",
        "gradient2, intercept2 = np.polyfit(Precipitation, Manhattan_bikers, 1)\n",
        "plt.plot(Precipitation, gradient2 * Precipitation + intercept2, color = 'red')\n",
        "plt.xlabel('Precipitation')\n",
        "plt.ylabel('Bikers at Manhattan Bridge')\n",
        "plt.grid()\n",
        "plt.subplot(1, 4, 3)\n",
        "plt.scatter(Precipitation, Williamsburg_bikers, color = 'green')\n",
        "gradient3, intercept3 = np.polyfit(Precipitation, Williamsburg_bikers, 1)\n",
        "plt.plot(Precipitation, gradient3 * Precipitation + intercept3, color = 'red')\n",
        "plt.xlabel('Precipitation')\n",
        "plt.ylabel('Bikers at Williamsburg Bridge')\n",
        "plt.grid()\n",
        "plt.subplot(1, 4, 4)\n",
        "plt.scatter(Precipitation, Queensboro_bikers, color = 'green')\n",
        "gradient4, intercept4 = np.polyfit(Precipitation, Queensboro_bikers, 1)\n",
        "plt.plot(Precipitation, gradient4 * Precipitation + intercept4, color = 'red')\n",
        "plt.xlabel('Precipitation')\n",
        "plt.ylabel('Bikers at Queesnboro Bridge')\n",
        "plt.grid()\n",
        "plt.show()\n",
        "print('\\nEquation 1: brooklyn_bikers= {}*Precipitation + {}'.format(round(gradient1, 2), round(intercept1, 2)))\n",
        "print('\\nEquation 2: manhattan_bikers= {}*Precipitation + {}'.format(round(gradient2, 2), round(intercept2, 2)))\n",
        "print('\\nEquation 3: williamsburg_bikers= {}*Precipitation + {}'.format(round(gradient3, 2), round(intercept3, 2)))\n",
        "print('\\nEquation 4: queensboro_bikers= {}*Precipitation + {}'.format(round(gradient4, 2), round(intercept4, 2)))\n",
        "print('\\nCorrelation Fig(1,4,1):', Precipitation.corr(Brooklyn_bikers))\n",
        "print('\\nCorrelation Fig(1,4,2):', Precipitation.corr(Manhattan_bikers))\n",
        "print('\\nCorrelation Fig(1,4,3):', Precipitation.corr(Williamsburg_bikers))\n",
        "print('\\nCorrelation Fig(1,4,4):', Precipitation.corr(Queensboro_bikers))"
      ]
    },
    {
      "cell_type": "markdown",
      "id": "3240487d-9510-4708-8d1d-0245c363d149",
      "metadata": {
        "id": "3240487d-9510-4708-8d1d-0245c363d149"
      },
      "source": [
        "Precipitation values are converted to binary for the model to understand. Then, logistic regression is applied and the confusion matrices are generated."
      ]
    },
    {
      "cell_type": "code",
      "execution_count": 19,
      "id": "27c925d1-4d9d-40a8-99dd-2592e94fe4fa",
      "metadata": {
        "colab": {
          "base_uri": "https://localhost:8080/",
          "height": 1000
        },
        "id": "27c925d1-4d9d-40a8-99dd-2592e94fe4fa",
        "outputId": "36228cf7-1cdd-4d63-ed59-69a30ce10514"
      },
      "outputs": [
        {
          "output_type": "stream",
          "name": "stdout",
          "text": [
            "0: No Precipitation\n",
            "1: Precipitation\n",
            "\n",
            " Brooklyn Bridge\n",
            "[0 0 1 0 0 0 0 0 0 0 1 1 0 0 0 0 0 0 1 0 1 1 0 0 0 0 0 1 0 0 0 0 0 0 1 0 0\n",
            " 0 0]\n",
            "Accuracy: 79.49\n"
          ]
        },
        {
          "output_type": "display_data",
          "data": {
            "text/plain": [
              "<Figure size 300x200 with 2 Axes>"
            ],
            "image/png": "[encoded data removed]"
          },
          "metadata": {}
        },
        {
          "output_type": "stream",
          "name": "stdout",
          "text": [
            "\n",
            " Manhattan Bridge\n",
            "[0 0 1 0 0 0 0 0 0 0 1 1 0 0 0 0 0 0 1 0 0 1 0 0 0 0 0 1 0 0 0 0 0 0 1 0 0\n",
            " 0 0]\n",
            "Accuracy: 76.92\n"
          ]
        },
        {
          "output_type": "display_data",
          "data": {
            "text/plain": [
              "<Figure size 300x200 with 2 Axes>"
            ],
            "image/png": "[encoded data removed]"
          },
          "metadata": {}
        },
        {
          "output_type": "stream",
          "name": "stdout",
          "text": [
            "\n",
            " Williamsburg Bridge\n",
            "[0 0 1 0 0 0 0 0 0 0 1 0 0 0 0 0 0 0 0 0 0 0 0 0 0 0 0 0 0 0 0 0 0 0 0 0 0\n",
            " 0 0]\n",
            "Accuracy: 74.36\n"
          ]
        },
        {
          "output_type": "display_data",
          "data": {
            "text/plain": [
              "<Figure size 300x200 with 2 Axes>"
            ],
            "image/png": "[encoded data removed]"
          },
          "metadata": {}
        },
        {
          "output_type": "stream",
          "name": "stdout",
          "text": [
            "\n",
            " Queensboro Bridge\n",
            "[0 0 1 0 0 0 0 0 0 0 1 0 0 0 0 0 0 0 0 0 0 0 0 0 0 0 0 1 0 0 0 0 0 0 0 0 0\n",
            " 0 0]\n",
            "Accuracy: 71.79\n"
          ]
        },
        {
          "output_type": "display_data",
          "data": {
            "text/plain": [
              "<Figure size 300x200 with 2 Axes>"
            ],
            "image/png": "[encoded data removed]"
          },
          "metadata": {}
        }
      ],
      "source": [
        "Precipitation_list = list(bikers_data[\"Precipitation\"])\n",
        "for iterate in range(0, len(Precipitation_list)):\n",
        "    if (Precipitation_list[iterate] == 0.00):\n",
        "        Precipitation_list[iterate] = 0\n",
        "    else:\n",
        "        Precipitation_list[iterate] = 1\n",
        "print('0: No Precipitation')\n",
        "print('1: Precipitation')\n",
        "for name_of_bridge in Bridges:\n",
        "    plt.figure(figsize = (3, 2))\n",
        "    conv_arr1 = np.array(Precipitation_list)\n",
        "    Precipitation = conv_arr1.reshape(-1, 1)\n",
        "    conv_arr2 = np.array(bikers_data[name_of_bridge])\n",
        "    num_bikers = conv_arr2.reshape(-1, 1)\n",
        "    [X_train, X_test, Y_train, Y_test] = train_test_split(num_bikers, Precipitation, test_size = 0.20, random_state = 0)\n",
        "    reg_model = LogisticRegression(solver = 'liblinear')\n",
        "    reg_model.fit(X_train, Y_train)\n",
        "    prediction = reg_model.predict(X_test)\n",
        "    matrix = confusion_matrix(Y_test, prediction)\n",
        "    sns.heatmap(matrix, annot = True, cmap = 'Blues')\n",
        "    print('\\n {}\\n{}'.format(name_of_bridge, prediction))\n",
        "    print('Accuracy:', round((reg_model.score(X_test, Y_test)) * 100, 2))\n",
        "    plt.show()"
      ]
    },
    {
      "cell_type": "markdown",
      "id": "1327bc8e-e7c9-4e4e-a152-7cc4e30a5f56",
      "metadata": {
        "id": "1327bc8e-e7c9-4e4e-a152-7cc4e30a5f56"
      },
      "source": [
        "K nearest neighbors classification is applied and the confusion matrices are generated."
      ]
    },
    {
      "cell_type": "code",
      "execution_count": 20,
      "id": "cc4026b7-4de3-4f74-b799-236323b2d154",
      "metadata": {
        "colab": {
          "base_uri": "https://localhost:8080/",
          "height": 1000
        },
        "id": "cc4026b7-4de3-4f74-b799-236323b2d154",
        "outputId": "d42ee82a-2188-456a-a49d-8a0e37a1d65d"
      },
      "outputs": [
        {
          "output_type": "stream",
          "name": "stdout",
          "text": [
            "0: No Precipitation\n",
            "1: Precipitation\n",
            "\n",
            " Brooklyn Bridge\n",
            "[0 0 1 0 0 1 0 0 0 0 1 0 0 0 0 0 1 0 0 0 0 0 1 1 0 0 0 0 0 1 0 0 0 0 0 0 0\n",
            " 0 1]\n",
            "Accuracy: 69.23\n"
          ]
        },
        {
          "output_type": "display_data",
          "data": {
            "text/plain": [
              "<Figure size 300x200 with 2 Axes>"
            ],
            "image/png": "[encoded data removed]"
          },
          "metadata": {}
        },
        {
          "output_type": "stream",
          "name": "stdout",
          "text": [
            "\n",
            " Manhattan Bridge\n",
            "[0 0 1 0 0 0 0 0 0 0 1 1 1 0 0 0 0 0 1 0 1 1 0 0 0 0 0 0 0 1 1 0 0 0 1 0 0\n",
            " 0 0]\n",
            "Accuracy: 84.62\n"
          ]
        },
        {
          "output_type": "display_data",
          "data": {
            "text/plain": [
              "<Figure size 300x200 with 2 Axes>"
            ],
            "image/png": "[encoded data removed]"
          },
          "metadata": {}
        },
        {
          "output_type": "stream",
          "name": "stdout",
          "text": [
            "\n",
            " Williamsburg Bridge\n",
            "[0 0 1 0 0 1 0 1 0 0 1 0 0 0 0 0 0 1 0 0 0 1 0 1 0 0 0 1 0 1 0 0 0 0 1 0 1\n",
            " 0 0]\n",
            "Accuracy: 76.92\n"
          ]
        },
        {
          "output_type": "display_data",
          "data": {
            "text/plain": [
              "<Figure size 300x200 with 2 Axes>"
            ],
            "image/png": "[encoded data removed]"
          },
          "metadata": {}
        },
        {
          "output_type": "stream",
          "name": "stdout",
          "text": [
            "\n",
            " Queensboro Bridge\n",
            "[0 0 1 0 1 0 1 1 1 1 1 1 0 1 0 0 0 0 1 1 1 1 0 0 0 0 0 1 0 1 0 0 0 0 0 0 0\n",
            " 0 0]\n",
            "Accuracy: 71.79\n"
          ]
        },
        {
          "output_type": "display_data",
          "data": {
            "text/plain": [
              "<Figure size 300x200 with 2 Axes>"
            ],
            "image/png": "[encoded data removed]"
          },
          "metadata": {}
        }
      ],
      "source": [
        "print('0: No Precipitation')\n",
        "print('1: Precipitation')\n",
        "for name_of_bridge in Bridges:\n",
        "    plt.figure(figsize = (3, 2))\n",
        "    conv_arr1 = np.array(Precipitation_list)\n",
        "    Precipitation = conv_arr1.reshape(-1, 1)\n",
        "    conv_arr2 = np.array(bikers_data[name_of_bridge])\n",
        "    num_bikers = conv_arr2.reshape(-1, 1)\n",
        "    [x_train, x_test, y_train, y_test] = train_test_split(num_bikers, Precipitation, test_size = 0.20, random_state = 0)\n",
        "    KNN_classifier = KNeighborsClassifier(n_neighbors = 3)\n",
        "    KNN_classifier.fit(x_train, y_train)  \n",
        "    KNN_prediction = KNN_classifier.predict(x_test)\n",
        "    print('\\n {}\\n{}'.format(name_of_bridge, KNN_prediction))\n",
        "    sns.heatmap(confusion_matrix(y_test, KNN_prediction), annot = True, cmap = 'Oranges')\n",
        "    print('Accuracy:', round((KNN_classifier.score(x_test, y_test)) * 100, 2))\n",
        "    plt.show()\n",
        "    "
      ]
    }
  ],
  "metadata": {
    "kernelspec": {
      "display_name": "Python 3",
      "language": "python",
      "name": "python3"
    },
    "language_info": {
      "codemirror_mode": {
        "name": "ipython",
        "version": 3
      },
      "file_extension": ".py",
      "mimetype": "text/x-python",
      "name": "python",
      "nbconvert_exporter": "python",
      "pygments_lexer": "ipython3",
      "version": "3.7.8"
    },
    "orig_nbformat": 4,
    "colab": {
      "provenance": []
    }
  },
  "nbformat": 4,
  "nbformat_minor": 5
}